{
 "cells": [
  {
   "cell_type": "code",
   "execution_count": 1,
   "metadata": {},
   "outputs": [
    {
     "data": {
      "application/vnd.plotly.v1+json": {
       "config": {
        "plotlyServerURL": "https://plot.ly"
       },
       "data": [
        {
         "hoverinfo": "text",
         "marker": {
          "size": [
           9.05,
           6.03,
           4.56,
           5.53,
           1.86,
           7.95,
           4.7,
           12.65,
           8.95,
           5,
           4.83,
           5.46,
           4.11,
           5.11,
           2.59,
           4.9,
           3.61,
           4.92,
           11.33,
           4.79,
           4.01,
           26.45,
           4.16,
           16.1,
           11.12,
           15.81,
           4.2,
           4.02,
           18.54,
           5.67,
           3.91,
           4,
           6.31,
           11.49,
           5.2,
           7.16,
           4.01,
           12.35,
           8,
           5.06,
           1.73,
           2.02,
           4.88,
           6.08,
           4.19,
           5.24,
           2,
           6,
           4
          ],
          "sizemin": 4,
          "sizemode": "area",
          "sizeref": 0.0330625
         },
         "mode": "markers",
         "name": "Avg Pace",
         "text": [
          "9.05 miles<br>01-04-2024",
          "6.03 miles<br>01-02-2024",
          "4.56 miles<br>02-15-2024",
          "5.53 miles<br>03-12-2024",
          "1.86 miles<br>02-28-2024",
          "7.95 miles<br>04-11-2024",
          "4.7 miles<br>02-22-2024",
          "12.65 miles<br>02-17-2024",
          "8.95 miles<br>01-22-2024",
          "5.0 miles<br>02-14-2024",
          "4.83 miles<br>03-15-2024",
          "5.46 miles<br>02-07-2024",
          "4.11 miles<br>05-09-2024",
          "5.11 miles<br>04-09-2024",
          "2.59 miles<br>02-02-2024",
          "4.9 miles<br>04-25-2024",
          "3.61 miles<br>04-23-2024",
          "4.92 miles<br>04-16-2024",
          "11.33 miles<br>02-24-2024",
          "4.79 miles<br>01-26-2024",
          "4.01 miles<br>02-23-2024",
          "26.45 miles<br>05-12-2024",
          "4.16 miles<br>03-11-2024",
          "16.1 miles<br>04-14-2024",
          "11.12 miles<br>02-05-2024",
          "15.81 miles<br>04-07-2024",
          "4.2 miles<br>03-09-2024",
          "4.02 miles<br>03-06-2024",
          "18.54 miles<br>04-21-2024",
          "5.67 miles<br>04-03-2024",
          "3.91 miles<br>02-26-2024",
          "4.0 miles<br>02-10-2024",
          "6.31 miles<br>03-03-2024",
          "11.49 miles<br>02-11-2024",
          "5.2 miles<br>03-05-2024",
          "7.16 miles<br>05-02-2024",
          "4.01 miles<br>02-19-2024",
          "12.35 miles<br>01-16-2024",
          "8.0 miles<br>01-11-2024",
          "5.06 miles<br>04-05-2024",
          "1.73 miles<br>02-13-2024",
          "2.02 miles<br>02-09-2024",
          "4.88 miles<br>04-18-2024",
          "6.08 miles<br>02-01-2024",
          "4.19 miles<br>02-04-2024",
          "5.24 miles<br>02-08-2024",
          "2.0 miles<br>02-13-2024",
          "6.0 miles<br>01-09-2024",
          "4.0 miles<br>01-10-2024"
         ],
         "type": "scatter",
         "x": [
          "2024-01-04T10:13:59",
          "2024-01-02T13:47:02",
          "2024-02-15T16:15:37",
          "2024-03-12T16:19:48",
          "2024-02-28T19:35:52",
          "2024-04-11T17:15:03",
          "2024-02-22T16:28:19",
          "2024-02-17T12:19:41",
          "2024-01-22T05:53:57",
          "2024-02-14T17:14:36",
          "2024-03-15T15:17:14",
          "2024-02-07T16:45:19",
          "2024-05-09T16:49:20",
          "2024-04-09T07:58:14",
          "2024-02-02T08:40:45",
          "2024-04-25T07:55:01",
          "2024-04-23T07:59:14",
          "2024-04-16T07:54:45",
          "2024-02-24T13:40:09",
          "2024-01-26T07:10:24",
          "2024-02-23T15:24:44",
          "2024-05-12T07:00:04",
          "2024-03-11T17:17:27",
          "2024-04-14T11:18:07",
          "2024-02-05T13:42:59",
          "2024-04-07T14:42:42",
          "2024-03-09T18:43:40",
          "2024-03-06T19:56:21",
          "2024-04-21T12:11:30",
          "2024-04-03T16:20:58",
          "2024-02-26T19:59:40",
          "2024-02-10T15:01:15",
          "2024-03-03T16:33:29",
          "2024-02-11T14:10:29",
          "2024-03-05T16:45:59",
          "2024-05-02T14:24:41",
          "2024-02-19T16:26:36",
          "2024-01-16T18:10:23",
          "2024-01-11T08:32:24",
          "2024-04-05T17:30:25",
          "2024-02-13T16:18:35",
          "2024-02-09T16:40:29",
          "2024-04-18T07:57:40",
          "2024-02-01T10:27:31",
          "2024-02-04T13:34:21",
          "2024-02-08T19:21:49",
          "2024-02-13T17:17:00",
          "2024-01-09T17:12:00",
          "2024-01-10T17:10:30"
         ],
         "y": [
          602,
          621,
          448,
          467,
          468,
          478,
          480,
          488,
          490,
          494,
          511,
          511,
          512,
          515,
          515,
          516,
          517,
          517,
          517,
          526,
          531,
          532,
          532,
          533,
          535,
          536,
          538,
          538,
          540,
          542,
          542,
          543,
          544,
          544,
          545,
          547,
          547,
          552,
          555,
          563,
          563,
          570,
          571,
          574,
          580,
          586,
          588,
          592,
          594
         ]
        }
       ],
       "layout": {
        "template": {
         "data": {
          "bar": [
           {
            "error_x": {
             "color": "#2a3f5f"
            },
            "error_y": {
             "color": "#2a3f5f"
            },
            "marker": {
             "line": {
              "color": "#E5ECF6",
              "width": 0.5
             },
             "pattern": {
              "fillmode": "overlay",
              "size": 10,
              "solidity": 0.2
             }
            },
            "type": "bar"
           }
          ],
          "barpolar": [
           {
            "marker": {
             "line": {
              "color": "#E5ECF6",
              "width": 0.5
             },
             "pattern": {
              "fillmode": "overlay",
              "size": 10,
              "solidity": 0.2
             }
            },
            "type": "barpolar"
           }
          ],
          "carpet": [
           {
            "aaxis": {
             "endlinecolor": "#2a3f5f",
             "gridcolor": "white",
             "linecolor": "white",
             "minorgridcolor": "white",
             "startlinecolor": "#2a3f5f"
            },
            "baxis": {
             "endlinecolor": "#2a3f5f",
             "gridcolor": "white",
             "linecolor": "white",
             "minorgridcolor": "white",
             "startlinecolor": "#2a3f5f"
            },
            "type": "carpet"
           }
          ],
          "choropleth": [
           {
            "colorbar": {
             "outlinewidth": 0,
             "ticks": ""
            },
            "type": "choropleth"
           }
          ],
          "contour": [
           {
            "colorbar": {
             "outlinewidth": 0,
             "ticks": ""
            },
            "colorscale": [
             [
              0,
              "#0d0887"
             ],
             [
              0.1111111111111111,
              "#46039f"
             ],
             [
              0.2222222222222222,
              "#7201a8"
             ],
             [
              0.3333333333333333,
              "#9c179e"
             ],
             [
              0.4444444444444444,
              "#bd3786"
             ],
             [
              0.5555555555555556,
              "#d8576b"
             ],
             [
              0.6666666666666666,
              "#ed7953"
             ],
             [
              0.7777777777777778,
              "#fb9f3a"
             ],
             [
              0.8888888888888888,
              "#fdca26"
             ],
             [
              1,
              "#f0f921"
             ]
            ],
            "type": "contour"
           }
          ],
          "contourcarpet": [
           {
            "colorbar": {
             "outlinewidth": 0,
             "ticks": ""
            },
            "type": "contourcarpet"
           }
          ],
          "heatmap": [
           {
            "colorbar": {
             "outlinewidth": 0,
             "ticks": ""
            },
            "colorscale": [
             [
              0,
              "#0d0887"
             ],
             [
              0.1111111111111111,
              "#46039f"
             ],
             [
              0.2222222222222222,
              "#7201a8"
             ],
             [
              0.3333333333333333,
              "#9c179e"
             ],
             [
              0.4444444444444444,
              "#bd3786"
             ],
             [
              0.5555555555555556,
              "#d8576b"
             ],
             [
              0.6666666666666666,
              "#ed7953"
             ],
             [
              0.7777777777777778,
              "#fb9f3a"
             ],
             [
              0.8888888888888888,
              "#fdca26"
             ],
             [
              1,
              "#f0f921"
             ]
            ],
            "type": "heatmap"
           }
          ],
          "heatmapgl": [
           {
            "colorbar": {
             "outlinewidth": 0,
             "ticks": ""
            },
            "colorscale": [
             [
              0,
              "#0d0887"
             ],
             [
              0.1111111111111111,
              "#46039f"
             ],
             [
              0.2222222222222222,
              "#7201a8"
             ],
             [
              0.3333333333333333,
              "#9c179e"
             ],
             [
              0.4444444444444444,
              "#bd3786"
             ],
             [
              0.5555555555555556,
              "#d8576b"
             ],
             [
              0.6666666666666666,
              "#ed7953"
             ],
             [
              0.7777777777777778,
              "#fb9f3a"
             ],
             [
              0.8888888888888888,
              "#fdca26"
             ],
             [
              1,
              "#f0f921"
             ]
            ],
            "type": "heatmapgl"
           }
          ],
          "histogram": [
           {
            "marker": {
             "pattern": {
              "fillmode": "overlay",
              "size": 10,
              "solidity": 0.2
             }
            },
            "type": "histogram"
           }
          ],
          "histogram2d": [
           {
            "colorbar": {
             "outlinewidth": 0,
             "ticks": ""
            },
            "colorscale": [
             [
              0,
              "#0d0887"
             ],
             [
              0.1111111111111111,
              "#46039f"
             ],
             [
              0.2222222222222222,
              "#7201a8"
             ],
             [
              0.3333333333333333,
              "#9c179e"
             ],
             [
              0.4444444444444444,
              "#bd3786"
             ],
             [
              0.5555555555555556,
              "#d8576b"
             ],
             [
              0.6666666666666666,
              "#ed7953"
             ],
             [
              0.7777777777777778,
              "#fb9f3a"
             ],
             [
              0.8888888888888888,
              "#fdca26"
             ],
             [
              1,
              "#f0f921"
             ]
            ],
            "type": "histogram2d"
           }
          ],
          "histogram2dcontour": [
           {
            "colorbar": {
             "outlinewidth": 0,
             "ticks": ""
            },
            "colorscale": [
             [
              0,
              "#0d0887"
             ],
             [
              0.1111111111111111,
              "#46039f"
             ],
             [
              0.2222222222222222,
              "#7201a8"
             ],
             [
              0.3333333333333333,
              "#9c179e"
             ],
             [
              0.4444444444444444,
              "#bd3786"
             ],
             [
              0.5555555555555556,
              "#d8576b"
             ],
             [
              0.6666666666666666,
              "#ed7953"
             ],
             [
              0.7777777777777778,
              "#fb9f3a"
             ],
             [
              0.8888888888888888,
              "#fdca26"
             ],
             [
              1,
              "#f0f921"
             ]
            ],
            "type": "histogram2dcontour"
           }
          ],
          "mesh3d": [
           {
            "colorbar": {
             "outlinewidth": 0,
             "ticks": ""
            },
            "type": "mesh3d"
           }
          ],
          "parcoords": [
           {
            "line": {
             "colorbar": {
              "outlinewidth": 0,
              "ticks": ""
             }
            },
            "type": "parcoords"
           }
          ],
          "pie": [
           {
            "automargin": true,
            "type": "pie"
           }
          ],
          "scatter": [
           {
            "fillpattern": {
             "fillmode": "overlay",
             "size": 10,
             "solidity": 0.2
            },
            "type": "scatter"
           }
          ],
          "scatter3d": [
           {
            "line": {
             "colorbar": {
              "outlinewidth": 0,
              "ticks": ""
             }
            },
            "marker": {
             "colorbar": {
              "outlinewidth": 0,
              "ticks": ""
             }
            },
            "type": "scatter3d"
           }
          ],
          "scattercarpet": [
           {
            "marker": {
             "colorbar": {
              "outlinewidth": 0,
              "ticks": ""
             }
            },
            "type": "scattercarpet"
           }
          ],
          "scattergeo": [
           {
            "marker": {
             "colorbar": {
              "outlinewidth": 0,
              "ticks": ""
             }
            },
            "type": "scattergeo"
           }
          ],
          "scattergl": [
           {
            "marker": {
             "colorbar": {
              "outlinewidth": 0,
              "ticks": ""
             }
            },
            "type": "scattergl"
           }
          ],
          "scattermapbox": [
           {
            "marker": {
             "colorbar": {
              "outlinewidth": 0,
              "ticks": ""
             }
            },
            "type": "scattermapbox"
           }
          ],
          "scatterpolar": [
           {
            "marker": {
             "colorbar": {
              "outlinewidth": 0,
              "ticks": ""
             }
            },
            "type": "scatterpolar"
           }
          ],
          "scatterpolargl": [
           {
            "marker": {
             "colorbar": {
              "outlinewidth": 0,
              "ticks": ""
             }
            },
            "type": "scatterpolargl"
           }
          ],
          "scatterternary": [
           {
            "marker": {
             "colorbar": {
              "outlinewidth": 0,
              "ticks": ""
             }
            },
            "type": "scatterternary"
           }
          ],
          "surface": [
           {
            "colorbar": {
             "outlinewidth": 0,
             "ticks": ""
            },
            "colorscale": [
             [
              0,
              "#0d0887"
             ],
             [
              0.1111111111111111,
              "#46039f"
             ],
             [
              0.2222222222222222,
              "#7201a8"
             ],
             [
              0.3333333333333333,
              "#9c179e"
             ],
             [
              0.4444444444444444,
              "#bd3786"
             ],
             [
              0.5555555555555556,
              "#d8576b"
             ],
             [
              0.6666666666666666,
              "#ed7953"
             ],
             [
              0.7777777777777778,
              "#fb9f3a"
             ],
             [
              0.8888888888888888,
              "#fdca26"
             ],
             [
              1,
              "#f0f921"
             ]
            ],
            "type": "surface"
           }
          ],
          "table": [
           {
            "cells": {
             "fill": {
              "color": "#EBF0F8"
             },
             "line": {
              "color": "white"
             }
            },
            "header": {
             "fill": {
              "color": "#C8D4E3"
             },
             "line": {
              "color": "white"
             }
            },
            "type": "table"
           }
          ]
         },
         "layout": {
          "annotationdefaults": {
           "arrowcolor": "#2a3f5f",
           "arrowhead": 0,
           "arrowwidth": 1
          },
          "autotypenumbers": "strict",
          "coloraxis": {
           "colorbar": {
            "outlinewidth": 0,
            "ticks": ""
           }
          },
          "colorscale": {
           "diverging": [
            [
             0,
             "#8e0152"
            ],
            [
             0.1,
             "#c51b7d"
            ],
            [
             0.2,
             "#de77ae"
            ],
            [
             0.3,
             "#f1b6da"
            ],
            [
             0.4,
             "#fde0ef"
            ],
            [
             0.5,
             "#f7f7f7"
            ],
            [
             0.6,
             "#e6f5d0"
            ],
            [
             0.7,
             "#b8e186"
            ],
            [
             0.8,
             "#7fbc41"
            ],
            [
             0.9,
             "#4d9221"
            ],
            [
             1,
             "#276419"
            ]
           ],
           "sequential": [
            [
             0,
             "#0d0887"
            ],
            [
             0.1111111111111111,
             "#46039f"
            ],
            [
             0.2222222222222222,
             "#7201a8"
            ],
            [
             0.3333333333333333,
             "#9c179e"
            ],
            [
             0.4444444444444444,
             "#bd3786"
            ],
            [
             0.5555555555555556,
             "#d8576b"
            ],
            [
             0.6666666666666666,
             "#ed7953"
            ],
            [
             0.7777777777777778,
             "#fb9f3a"
            ],
            [
             0.8888888888888888,
             "#fdca26"
            ],
            [
             1,
             "#f0f921"
            ]
           ],
           "sequentialminus": [
            [
             0,
             "#0d0887"
            ],
            [
             0.1111111111111111,
             "#46039f"
            ],
            [
             0.2222222222222222,
             "#7201a8"
            ],
            [
             0.3333333333333333,
             "#9c179e"
            ],
            [
             0.4444444444444444,
             "#bd3786"
            ],
            [
             0.5555555555555556,
             "#d8576b"
            ],
            [
             0.6666666666666666,
             "#ed7953"
            ],
            [
             0.7777777777777778,
             "#fb9f3a"
            ],
            [
             0.8888888888888888,
             "#fdca26"
            ],
            [
             1,
             "#f0f921"
            ]
           ]
          },
          "colorway": [
           "#636efa",
           "#EF553B",
           "#00cc96",
           "#ab63fa",
           "#FFA15A",
           "#19d3f3",
           "#FF6692",
           "#B6E880",
           "#FF97FF",
           "#FECB52"
          ],
          "font": {
           "color": "#2a3f5f"
          },
          "geo": {
           "bgcolor": "white",
           "lakecolor": "white",
           "landcolor": "#E5ECF6",
           "showlakes": true,
           "showland": true,
           "subunitcolor": "white"
          },
          "hoverlabel": {
           "align": "left"
          },
          "hovermode": "closest",
          "mapbox": {
           "style": "light"
          },
          "paper_bgcolor": "white",
          "plot_bgcolor": "#E5ECF6",
          "polar": {
           "angularaxis": {
            "gridcolor": "white",
            "linecolor": "white",
            "ticks": ""
           },
           "bgcolor": "#E5ECF6",
           "radialaxis": {
            "gridcolor": "white",
            "linecolor": "white",
            "ticks": ""
           }
          },
          "scene": {
           "xaxis": {
            "backgroundcolor": "#E5ECF6",
            "gridcolor": "white",
            "gridwidth": 2,
            "linecolor": "white",
            "showbackground": true,
            "ticks": "",
            "zerolinecolor": "white"
           },
           "yaxis": {
            "backgroundcolor": "#E5ECF6",
            "gridcolor": "white",
            "gridwidth": 2,
            "linecolor": "white",
            "showbackground": true,
            "ticks": "",
            "zerolinecolor": "white"
           },
           "zaxis": {
            "backgroundcolor": "#E5ECF6",
            "gridcolor": "white",
            "gridwidth": 2,
            "linecolor": "white",
            "showbackground": true,
            "ticks": "",
            "zerolinecolor": "white"
           }
          },
          "shapedefaults": {
           "line": {
            "color": "#2a3f5f"
           }
          },
          "ternary": {
           "aaxis": {
            "gridcolor": "white",
            "linecolor": "white",
            "ticks": ""
           },
           "baxis": {
            "gridcolor": "white",
            "linecolor": "white",
            "ticks": ""
           },
           "bgcolor": "#E5ECF6",
           "caxis": {
            "gridcolor": "white",
            "linecolor": "white",
            "ticks": ""
           }
          },
          "title": {
           "x": 0.05
          },
          "xaxis": {
           "automargin": true,
           "gridcolor": "white",
           "linecolor": "white",
           "ticks": "",
           "title": {
            "standoff": 15
           },
           "zerolinecolor": "white",
           "zerolinewidth": 2
          },
          "yaxis": {
           "automargin": true,
           "gridcolor": "white",
           "linecolor": "white",
           "ticks": "",
           "title": {
            "standoff": 15
           },
           "zerolinecolor": "white",
           "zerolinewidth": 2
          }
         }
        },
        "title": {
         "text": "Fig 1: Average Pace Over Time (distance ~ radius)"
        },
        "xaxis": {
         "dtick": "M1",
         "tick0": "2024-01-02T13:47:02",
         "tickformat": "%b %Y",
         "tickmode": "linear",
         "title": {
          "text": "Date"
         }
        },
        "yaxis": {
         "autorange": "reversed",
         "tickmode": "array",
         "ticktext": [
          "06:00",
          "06:30",
          "07:00",
          "07:30",
          "08:00",
          "08:30",
          "09:00",
          "09:30",
          "10:00",
          "10:30",
          "11:00",
          "11:30"
         ],
         "tickvals": [
          360,
          390,
          420,
          450,
          480,
          510,
          540,
          570,
          600,
          630,
          660,
          690
         ],
         "title": {
          "text": "Avg Pace [min/mi]"
         }
        }
       }
      }
     },
     "metadata": {},
     "output_type": "display_data"
    }
   ],
   "source": [
    "import csv\n",
    "import plotly.graph_objects as go\n",
    "import math\n",
    "import plotly.express as px\n",
    "import numpy as np\n",
    "import pandas as pd\n",
    "from IPython.display import display\n",
    "\n",
    "# Load the data\n",
    "file_path = 'Garmin_clean7.csv'\n",
    "df = pd.read_csv(file_path)\n",
    "\n",
    "# Convert \"Avg.Pace\" to string (if necessary)\n",
    "df['Avg.Pace'] = df['Avg.Pace'].astype(str)\n",
    "df['Avg.Pace'] = '0:' + df['Avg.Pace']\n",
    "\n",
    "df['Avg Moving Pace'] = pd.to_timedelta(df['Avg.Pace']).dt.total_seconds()\n",
    "\n",
    "df['Date'] = pd.to_datetime(df['Date'])\n",
    "\n",
    "# Filter out the specific run\n",
    "pace_to_remove = '0:10:52'     # Replace with the specific pace you want to remove\n",
    "df = df[~((df['Avg.Pace'] == pace_to_remove))]\n",
    "\n",
    "# Creates the ticks for the average paces\n",
    "def get_pace_ylabels(ymin=360, ymax=720, step=30):\n",
    "    y_ticks = np.arange(ymin, ymax, step)\n",
    "    labels = [\n",
    "        f\"{'{:02d}'.format(math.floor(y/60))}:{'{:02d}'.format(int(y%60))}\"\n",
    "        for y in y_ticks\n",
    "    ]\n",
    "    return y_ticks, labels\n",
    "\n",
    "fig = go.Figure()\n",
    "\n",
    "# Add a trace for average pace with size representing distance\n",
    "fig.add_trace(go.Scatter(\n",
    "    x=df['Date'], \n",
    "    y=df['Avg Moving Pace'], \n",
    "    mode='markers', \n",
    "    marker=dict(\n",
    "        size=df['Distance'],  # Assume 'Distance' is a column in your DataFrame\n",
    "        sizemode='area',\n",
    "        sizeref=2.*max(df['Distance'])/(40.**2),\n",
    "        sizemin=4\n",
    "    ),\n",
    "    text=df['Distance'].apply(lambda d: f\"{d} miles\") + '<br>' + df['Date'].apply(lambda d: d.strftime('%m-%d-%Y')),\n",
    "    hoverinfo='text',\n",
    "    name='Avg Pace'\n",
    "    \n",
    "))\n",
    "\n",
    "# Get custom y-ticks and labels\n",
    "y_ticks, y_labels = get_pace_ylabels()\n",
    "\n",
    "# Customize the layout\n",
    "fig.update_layout(\n",
    "    title='Fig 1: Average Pace Over Time (distance ~ radius)',\n",
    "    xaxis_title='Date',\n",
    "    yaxis_title='Avg Pace [min/mi]',\n",
    "    xaxis=dict(\n",
    "        tickformat='%b %Y',\n",
    "        tickmode='linear',\n",
    "        tick0=df['Date'].min(),\n",
    "        dtick=\"M1\"  # Ensure the tick labels show every month\n",
    "    ),\n",
    "    yaxis=dict(\n",
    "        tickmode='array',\n",
    "        tickvals=y_ticks,\n",
    "        ticktext=y_labels,\n",
    "        autorange='reversed'  # Reverse the y-axis\n",
    "    )\n",
    ")\n",
    "# Show the plot\n",
    "fig.show()\n"
   ]
  },
  {
   "cell_type": "code",
   "execution_count": 2,
   "metadata": {},
   "outputs": [
    {
     "data": {
      "application/vnd.plotly.v1+json": {
       "config": {
        "plotlyServerURL": "https://plot.ly"
       },
       "data": [
        {
         "hoverinfo": "text",
         "marker": {
          "size": [
           9.05,
           6.03,
           4.56,
           5.53,
           1.86,
           7.95,
           4.7,
           12.65,
           8.95,
           5,
           4.83,
           5.46,
           4.11,
           5.11,
           2.59,
           4.9,
           3.61,
           4.92,
           11.33,
           4.79,
           4.01,
           26.45,
           4.16,
           16.1,
           11.12,
           15.81,
           4.2,
           4.02,
           18.54,
           5.67,
           3.91,
           4,
           6.31,
           11.49,
           5.2,
           7.16,
           4.01,
           12.35,
           8,
           5.06,
           1.73,
           2.02,
           4.88,
           6.08,
           4.19,
           5.24,
           2,
           6,
           4
          ],
          "sizemin": 4,
          "sizemode": "area",
          "sizeref": 0.0330625
         },
         "mode": "markers",
         "name": "Avg Pace",
         "text": [
          "9.05 miles\n<br>175 BPM<br>01-04-2024",
          "6.03 miles\n<br>157 BPM<br>01-02-2024",
          "4.56 miles\n<br>175 BPM<br>02-15-2024",
          "5.53 miles\n<br>173 BPM<br>03-12-2024",
          "1.86 miles\n<br>165 BPM<br>02-28-2024",
          "7.95 miles\n<br>164 BPM<br>04-11-2024",
          "4.7 miles\n<br>165 BPM<br>02-22-2024",
          "12.65 miles\n<br>167 BPM<br>02-17-2024",
          "8.95 miles\n<br>151 BPM<br>01-22-2024",
          "5.0 miles\n<br>163 BPM<br>02-14-2024",
          "4.83 miles\n<br>164 BPM<br>03-15-2024",
          "5.46 miles\n<br>168 BPM<br>02-07-2024",
          "4.11 miles\n<br>162 BPM<br>05-09-2024",
          "5.11 miles\n<br>164 BPM<br>04-09-2024",
          "2.59 miles\n<br>166 BPM<br>02-02-2024",
          "4.9 miles\n<br>166 BPM<br>04-25-2024",
          "3.61 miles\n<br>167 BPM<br>04-23-2024",
          "4.92 miles\n<br>165 BPM<br>04-16-2024",
          "11.33 miles\n<br>166 BPM<br>02-24-2024",
          "4.79 miles\n<br>165 BPM<br>01-26-2024",
          "4.01 miles\n<br>163 BPM<br>02-23-2024",
          "26.45 miles\n<br>168 BPM<br>05-12-2024",
          "4.16 miles\n<br>152 BPM<br>03-11-2024",
          "16.1 miles\n<br>165 BPM<br>04-14-2024",
          "11.12 miles\n<br>165 BPM<br>02-05-2024",
          "15.81 miles\n<br>165 BPM<br>04-07-2024",
          "4.2 miles\n<br>153 BPM<br>03-09-2024",
          "4.02 miles\n<br>158 BPM<br>03-06-2024",
          "18.54 miles\n<br>166 BPM<br>04-21-2024",
          "5.67 miles\n<br>164 BPM<br>04-03-2024",
          "3.91 miles\n<br>151 BPM<br>02-26-2024",
          "4.0 miles\n<br>158 BPM<br>02-10-2024",
          "6.31 miles\n<br>156 BPM<br>03-03-2024",
          "11.49 miles\n<br>164 BPM<br>02-11-2024",
          "5.2 miles\n<br>156 BPM<br>03-05-2024",
          "7.16 miles\n<br>167 BPM<br>05-02-2024",
          "4.01 miles\n<br>156 BPM<br>02-19-2024",
          "12.35 miles\n<br>163 BPM<br>01-16-2024",
          "8.0 miles\n<br>175 BPM<br>01-11-2024",
          "5.06 miles\n<br>170 BPM<br>04-05-2024",
          "1.73 miles\n<br>158 BPM<br>02-13-2024",
          "2.02 miles\n<br>163 BPM<br>02-09-2024",
          "4.88 miles\n<br>157 BPM<br>04-18-2024",
          "6.08 miles\n<br>164 BPM<br>02-01-2024",
          "4.19 miles\n<br>167 BPM<br>02-04-2024",
          "5.24 miles\n<br>159 BPM<br>02-08-2024",
          "2.0 miles\n<br>166 BPM<br>02-13-2024",
          "6.0 miles\n<br>160 BPM<br>01-09-2024",
          "4.0 miles\n<br>148 BPM<br>01-10-2024"
         ],
         "type": "scatter",
         "x": [
          "2024-01-04T10:13:59",
          "2024-01-02T13:47:02",
          "2024-02-15T16:15:37",
          "2024-03-12T16:19:48",
          "2024-02-28T19:35:52",
          "2024-04-11T17:15:03",
          "2024-02-22T16:28:19",
          "2024-02-17T12:19:41",
          "2024-01-22T05:53:57",
          "2024-02-14T17:14:36",
          "2024-03-15T15:17:14",
          "2024-02-07T16:45:19",
          "2024-05-09T16:49:20",
          "2024-04-09T07:58:14",
          "2024-02-02T08:40:45",
          "2024-04-25T07:55:01",
          "2024-04-23T07:59:14",
          "2024-04-16T07:54:45",
          "2024-02-24T13:40:09",
          "2024-01-26T07:10:24",
          "2024-02-23T15:24:44",
          "2024-05-12T07:00:04",
          "2024-03-11T17:17:27",
          "2024-04-14T11:18:07",
          "2024-02-05T13:42:59",
          "2024-04-07T14:42:42",
          "2024-03-09T18:43:40",
          "2024-03-06T19:56:21",
          "2024-04-21T12:11:30",
          "2024-04-03T16:20:58",
          "2024-02-26T19:59:40",
          "2024-02-10T15:01:15",
          "2024-03-03T16:33:29",
          "2024-02-11T14:10:29",
          "2024-03-05T16:45:59",
          "2024-05-02T14:24:41",
          "2024-02-19T16:26:36",
          "2024-01-16T18:10:23",
          "2024-01-11T08:32:24",
          "2024-04-05T17:30:25",
          "2024-02-13T16:18:35",
          "2024-02-09T16:40:29",
          "2024-04-18T07:57:40",
          "2024-02-01T10:27:31",
          "2024-02-04T13:34:21",
          "2024-02-08T19:21:49",
          "2024-02-13T17:17:00",
          "2024-01-09T17:12:00",
          "2024-01-10T17:10:30"
         ],
         "y": [
          175,
          157,
          175,
          173,
          165,
          164,
          165,
          167,
          151,
          163,
          164,
          168,
          162,
          164,
          166,
          166,
          167,
          165,
          166,
          165,
          163,
          168,
          152,
          165,
          165,
          165,
          153,
          158,
          166,
          164,
          151,
          158,
          156,
          164,
          156,
          167,
          156,
          163,
          175,
          170,
          158,
          163,
          157,
          164,
          167,
          159,
          166,
          160,
          148
         ]
        }
       ],
       "layout": {
        "template": {
         "data": {
          "bar": [
           {
            "error_x": {
             "color": "#2a3f5f"
            },
            "error_y": {
             "color": "#2a3f5f"
            },
            "marker": {
             "line": {
              "color": "#E5ECF6",
              "width": 0.5
             },
             "pattern": {
              "fillmode": "overlay",
              "size": 10,
              "solidity": 0.2
             }
            },
            "type": "bar"
           }
          ],
          "barpolar": [
           {
            "marker": {
             "line": {
              "color": "#E5ECF6",
              "width": 0.5
             },
             "pattern": {
              "fillmode": "overlay",
              "size": 10,
              "solidity": 0.2
             }
            },
            "type": "barpolar"
           }
          ],
          "carpet": [
           {
            "aaxis": {
             "endlinecolor": "#2a3f5f",
             "gridcolor": "white",
             "linecolor": "white",
             "minorgridcolor": "white",
             "startlinecolor": "#2a3f5f"
            },
            "baxis": {
             "endlinecolor": "#2a3f5f",
             "gridcolor": "white",
             "linecolor": "white",
             "minorgridcolor": "white",
             "startlinecolor": "#2a3f5f"
            },
            "type": "carpet"
           }
          ],
          "choropleth": [
           {
            "colorbar": {
             "outlinewidth": 0,
             "ticks": ""
            },
            "type": "choropleth"
           }
          ],
          "contour": [
           {
            "colorbar": {
             "outlinewidth": 0,
             "ticks": ""
            },
            "colorscale": [
             [
              0,
              "#0d0887"
             ],
             [
              0.1111111111111111,
              "#46039f"
             ],
             [
              0.2222222222222222,
              "#7201a8"
             ],
             [
              0.3333333333333333,
              "#9c179e"
             ],
             [
              0.4444444444444444,
              "#bd3786"
             ],
             [
              0.5555555555555556,
              "#d8576b"
             ],
             [
              0.6666666666666666,
              "#ed7953"
             ],
             [
              0.7777777777777778,
              "#fb9f3a"
             ],
             [
              0.8888888888888888,
              "#fdca26"
             ],
             [
              1,
              "#f0f921"
             ]
            ],
            "type": "contour"
           }
          ],
          "contourcarpet": [
           {
            "colorbar": {
             "outlinewidth": 0,
             "ticks": ""
            },
            "type": "contourcarpet"
           }
          ],
          "heatmap": [
           {
            "colorbar": {
             "outlinewidth": 0,
             "ticks": ""
            },
            "colorscale": [
             [
              0,
              "#0d0887"
             ],
             [
              0.1111111111111111,
              "#46039f"
             ],
             [
              0.2222222222222222,
              "#7201a8"
             ],
             [
              0.3333333333333333,
              "#9c179e"
             ],
             [
              0.4444444444444444,
              "#bd3786"
             ],
             [
              0.5555555555555556,
              "#d8576b"
             ],
             [
              0.6666666666666666,
              "#ed7953"
             ],
             [
              0.7777777777777778,
              "#fb9f3a"
             ],
             [
              0.8888888888888888,
              "#fdca26"
             ],
             [
              1,
              "#f0f921"
             ]
            ],
            "type": "heatmap"
           }
          ],
          "heatmapgl": [
           {
            "colorbar": {
             "outlinewidth": 0,
             "ticks": ""
            },
            "colorscale": [
             [
              0,
              "#0d0887"
             ],
             [
              0.1111111111111111,
              "#46039f"
             ],
             [
              0.2222222222222222,
              "#7201a8"
             ],
             [
              0.3333333333333333,
              "#9c179e"
             ],
             [
              0.4444444444444444,
              "#bd3786"
             ],
             [
              0.5555555555555556,
              "#d8576b"
             ],
             [
              0.6666666666666666,
              "#ed7953"
             ],
             [
              0.7777777777777778,
              "#fb9f3a"
             ],
             [
              0.8888888888888888,
              "#fdca26"
             ],
             [
              1,
              "#f0f921"
             ]
            ],
            "type": "heatmapgl"
           }
          ],
          "histogram": [
           {
            "marker": {
             "pattern": {
              "fillmode": "overlay",
              "size": 10,
              "solidity": 0.2
             }
            },
            "type": "histogram"
           }
          ],
          "histogram2d": [
           {
            "colorbar": {
             "outlinewidth": 0,
             "ticks": ""
            },
            "colorscale": [
             [
              0,
              "#0d0887"
             ],
             [
              0.1111111111111111,
              "#46039f"
             ],
             [
              0.2222222222222222,
              "#7201a8"
             ],
             [
              0.3333333333333333,
              "#9c179e"
             ],
             [
              0.4444444444444444,
              "#bd3786"
             ],
             [
              0.5555555555555556,
              "#d8576b"
             ],
             [
              0.6666666666666666,
              "#ed7953"
             ],
             [
              0.7777777777777778,
              "#fb9f3a"
             ],
             [
              0.8888888888888888,
              "#fdca26"
             ],
             [
              1,
              "#f0f921"
             ]
            ],
            "type": "histogram2d"
           }
          ],
          "histogram2dcontour": [
           {
            "colorbar": {
             "outlinewidth": 0,
             "ticks": ""
            },
            "colorscale": [
             [
              0,
              "#0d0887"
             ],
             [
              0.1111111111111111,
              "#46039f"
             ],
             [
              0.2222222222222222,
              "#7201a8"
             ],
             [
              0.3333333333333333,
              "#9c179e"
             ],
             [
              0.4444444444444444,
              "#bd3786"
             ],
             [
              0.5555555555555556,
              "#d8576b"
             ],
             [
              0.6666666666666666,
              "#ed7953"
             ],
             [
              0.7777777777777778,
              "#fb9f3a"
             ],
             [
              0.8888888888888888,
              "#fdca26"
             ],
             [
              1,
              "#f0f921"
             ]
            ],
            "type": "histogram2dcontour"
           }
          ],
          "mesh3d": [
           {
            "colorbar": {
             "outlinewidth": 0,
             "ticks": ""
            },
            "type": "mesh3d"
           }
          ],
          "parcoords": [
           {
            "line": {
             "colorbar": {
              "outlinewidth": 0,
              "ticks": ""
             }
            },
            "type": "parcoords"
           }
          ],
          "pie": [
           {
            "automargin": true,
            "type": "pie"
           }
          ],
          "scatter": [
           {
            "fillpattern": {
             "fillmode": "overlay",
             "size": 10,
             "solidity": 0.2
            },
            "type": "scatter"
           }
          ],
          "scatter3d": [
           {
            "line": {
             "colorbar": {
              "outlinewidth": 0,
              "ticks": ""
             }
            },
            "marker": {
             "colorbar": {
              "outlinewidth": 0,
              "ticks": ""
             }
            },
            "type": "scatter3d"
           }
          ],
          "scattercarpet": [
           {
            "marker": {
             "colorbar": {
              "outlinewidth": 0,
              "ticks": ""
             }
            },
            "type": "scattercarpet"
           }
          ],
          "scattergeo": [
           {
            "marker": {
             "colorbar": {
              "outlinewidth": 0,
              "ticks": ""
             }
            },
            "type": "scattergeo"
           }
          ],
          "scattergl": [
           {
            "marker": {
             "colorbar": {
              "outlinewidth": 0,
              "ticks": ""
             }
            },
            "type": "scattergl"
           }
          ],
          "scattermapbox": [
           {
            "marker": {
             "colorbar": {
              "outlinewidth": 0,
              "ticks": ""
             }
            },
            "type": "scattermapbox"
           }
          ],
          "scatterpolar": [
           {
            "marker": {
             "colorbar": {
              "outlinewidth": 0,
              "ticks": ""
             }
            },
            "type": "scatterpolar"
           }
          ],
          "scatterpolargl": [
           {
            "marker": {
             "colorbar": {
              "outlinewidth": 0,
              "ticks": ""
             }
            },
            "type": "scatterpolargl"
           }
          ],
          "scatterternary": [
           {
            "marker": {
             "colorbar": {
              "outlinewidth": 0,
              "ticks": ""
             }
            },
            "type": "scatterternary"
           }
          ],
          "surface": [
           {
            "colorbar": {
             "outlinewidth": 0,
             "ticks": ""
            },
            "colorscale": [
             [
              0,
              "#0d0887"
             ],
             [
              0.1111111111111111,
              "#46039f"
             ],
             [
              0.2222222222222222,
              "#7201a8"
             ],
             [
              0.3333333333333333,
              "#9c179e"
             ],
             [
              0.4444444444444444,
              "#bd3786"
             ],
             [
              0.5555555555555556,
              "#d8576b"
             ],
             [
              0.6666666666666666,
              "#ed7953"
             ],
             [
              0.7777777777777778,
              "#fb9f3a"
             ],
             [
              0.8888888888888888,
              "#fdca26"
             ],
             [
              1,
              "#f0f921"
             ]
            ],
            "type": "surface"
           }
          ],
          "table": [
           {
            "cells": {
             "fill": {
              "color": "#EBF0F8"
             },
             "line": {
              "color": "white"
             }
            },
            "header": {
             "fill": {
              "color": "#C8D4E3"
             },
             "line": {
              "color": "white"
             }
            },
            "type": "table"
           }
          ]
         },
         "layout": {
          "annotationdefaults": {
           "arrowcolor": "#2a3f5f",
           "arrowhead": 0,
           "arrowwidth": 1
          },
          "autotypenumbers": "strict",
          "coloraxis": {
           "colorbar": {
            "outlinewidth": 0,
            "ticks": ""
           }
          },
          "colorscale": {
           "diverging": [
            [
             0,
             "#8e0152"
            ],
            [
             0.1,
             "#c51b7d"
            ],
            [
             0.2,
             "#de77ae"
            ],
            [
             0.3,
             "#f1b6da"
            ],
            [
             0.4,
             "#fde0ef"
            ],
            [
             0.5,
             "#f7f7f7"
            ],
            [
             0.6,
             "#e6f5d0"
            ],
            [
             0.7,
             "#b8e186"
            ],
            [
             0.8,
             "#7fbc41"
            ],
            [
             0.9,
             "#4d9221"
            ],
            [
             1,
             "#276419"
            ]
           ],
           "sequential": [
            [
             0,
             "#0d0887"
            ],
            [
             0.1111111111111111,
             "#46039f"
            ],
            [
             0.2222222222222222,
             "#7201a8"
            ],
            [
             0.3333333333333333,
             "#9c179e"
            ],
            [
             0.4444444444444444,
             "#bd3786"
            ],
            [
             0.5555555555555556,
             "#d8576b"
            ],
            [
             0.6666666666666666,
             "#ed7953"
            ],
            [
             0.7777777777777778,
             "#fb9f3a"
            ],
            [
             0.8888888888888888,
             "#fdca26"
            ],
            [
             1,
             "#f0f921"
            ]
           ],
           "sequentialminus": [
            [
             0,
             "#0d0887"
            ],
            [
             0.1111111111111111,
             "#46039f"
            ],
            [
             0.2222222222222222,
             "#7201a8"
            ],
            [
             0.3333333333333333,
             "#9c179e"
            ],
            [
             0.4444444444444444,
             "#bd3786"
            ],
            [
             0.5555555555555556,
             "#d8576b"
            ],
            [
             0.6666666666666666,
             "#ed7953"
            ],
            [
             0.7777777777777778,
             "#fb9f3a"
            ],
            [
             0.8888888888888888,
             "#fdca26"
            ],
            [
             1,
             "#f0f921"
            ]
           ]
          },
          "colorway": [
           "#636efa",
           "#EF553B",
           "#00cc96",
           "#ab63fa",
           "#FFA15A",
           "#19d3f3",
           "#FF6692",
           "#B6E880",
           "#FF97FF",
           "#FECB52"
          ],
          "font": {
           "color": "#2a3f5f"
          },
          "geo": {
           "bgcolor": "white",
           "lakecolor": "white",
           "landcolor": "#E5ECF6",
           "showlakes": true,
           "showland": true,
           "subunitcolor": "white"
          },
          "hoverlabel": {
           "align": "left"
          },
          "hovermode": "closest",
          "mapbox": {
           "style": "light"
          },
          "paper_bgcolor": "white",
          "plot_bgcolor": "#E5ECF6",
          "polar": {
           "angularaxis": {
            "gridcolor": "white",
            "linecolor": "white",
            "ticks": ""
           },
           "bgcolor": "#E5ECF6",
           "radialaxis": {
            "gridcolor": "white",
            "linecolor": "white",
            "ticks": ""
           }
          },
          "scene": {
           "xaxis": {
            "backgroundcolor": "#E5ECF6",
            "gridcolor": "white",
            "gridwidth": 2,
            "linecolor": "white",
            "showbackground": true,
            "ticks": "",
            "zerolinecolor": "white"
           },
           "yaxis": {
            "backgroundcolor": "#E5ECF6",
            "gridcolor": "white",
            "gridwidth": 2,
            "linecolor": "white",
            "showbackground": true,
            "ticks": "",
            "zerolinecolor": "white"
           },
           "zaxis": {
            "backgroundcolor": "#E5ECF6",
            "gridcolor": "white",
            "gridwidth": 2,
            "linecolor": "white",
            "showbackground": true,
            "ticks": "",
            "zerolinecolor": "white"
           }
          },
          "shapedefaults": {
           "line": {
            "color": "#2a3f5f"
           }
          },
          "ternary": {
           "aaxis": {
            "gridcolor": "white",
            "linecolor": "white",
            "ticks": ""
           },
           "baxis": {
            "gridcolor": "white",
            "linecolor": "white",
            "ticks": ""
           },
           "bgcolor": "#E5ECF6",
           "caxis": {
            "gridcolor": "white",
            "linecolor": "white",
            "ticks": ""
           }
          },
          "title": {
           "x": 0.05
          },
          "xaxis": {
           "automargin": true,
           "gridcolor": "white",
           "linecolor": "white",
           "ticks": "",
           "title": {
            "standoff": 15
           },
           "zerolinecolor": "white",
           "zerolinewidth": 2
          },
          "yaxis": {
           "automargin": true,
           "gridcolor": "white",
           "linecolor": "white",
           "ticks": "",
           "title": {
            "standoff": 15
           },
           "zerolinecolor": "white",
           "zerolinewidth": 2
          }
         }
        },
        "title": {
         "text": "Fig 2: Average heart rate per run over time (distance ~ radius)"
        },
        "xaxis": {
         "dtick": "M1",
         "tick0": "2024-01-02T13:47:02",
         "tickformat": "%b %Y",
         "tickmode": "linear",
         "title": {
          "text": "Date"
         }
        },
        "yaxis": {
         "linecolor": "black",
         "tickmode": "array",
         "ticks": "outside",
         "ticktext": [
          "06:00",
          "06:30",
          "07:00",
          "07:30",
          "08:00",
          "08:30",
          "09:00",
          "09:30",
          "10:00",
          "10:30",
          "11:00",
          "11:30"
         ],
         "title": {
          "text": "Avg heart rate [bpm]"
         }
        }
       }
      }
     },
     "metadata": {},
     "output_type": "display_data"
    }
   ],
   "source": [
    "# Get custom y-ticks and labels\n",
    "fig_2 = go.Figure()\n",
    "\n",
    "# Add a trace for average pace with size representing distance\n",
    "fig_2.add_trace(go.Scatter(\n",
    "    x=df['Date'], \n",
    "    y=df['Avg.HR'], \n",
    "    mode='markers', \n",
    "    marker=dict(\n",
    "        size=df['Distance'],  # Assume 'Distance' is a column in your DataFrame\n",
    "        sizemode='area',\n",
    "        sizeref=2.*max(df['Distance'])/(40.**2),\n",
    "        sizemin=4.\n",
    "    ),\n",
    "    text=df['Distance'].apply(lambda d: f\"{d} miles\\n\") +'<br>' + \n",
    "    df['Avg.HR'].apply(lambda d: f\"{d} BPM\") + '<br>' + \n",
    "    df['Date'].apply(lambda d: d.strftime('%m-%d-%Y')),\n",
    "    hoverinfo='text',\n",
    "    name='Avg Pace'\n",
    "    \n",
    "))\n",
    "\n",
    "# Get custom y-ticks and labels\n",
    "y_ticks, y_labels = get_pace_ylabels()\n",
    "\n",
    "# Customize the layout\n",
    "fig_2.update_layout(\n",
    "    title='Fig 2: Average heart rate per run over time (distance ~ radius)',\n",
    "    xaxis_title='Date',\n",
    "    yaxis_title='Avg heart rate [bpm]',\n",
    "    xaxis=dict(\n",
    "        tickformat='%b %Y',\n",
    "        tickmode='linear',\n",
    "        tick0=df['Date'].min(),\n",
    "        dtick=\"M1\"  # Ensure the tick labels show every month\n",
    "    ),\n",
    "    yaxis=dict(\n",
    "        tickmode='array',\n",
    "        ticktext=y_labels, # Assuming these labels are pre-calculated\n",
    "        ticks='outside',   # This ensures tick marks appear outside the axis\n",
    "        linecolor='black' # Color of the axis line\n",
    "        \n",
    "    )\n",
    ")\n",
    "# Show the plot\n",
    "fig_2.show()"
   ]
  },
  {
   "cell_type": "code",
   "execution_count": 3,
   "metadata": {},
   "outputs": [
    {
     "data": {
      "application/vnd.plotly.v1+json": {
       "config": {
        "plotlyServerURL": "https://plot.ly"
       },
       "data": [
        {
         "hoverinfo": "text",
         "marker": {
          "size": [
           9.05,
           6.03,
           4.56,
           5.53,
           1.86,
           7.95,
           4.7,
           12.65,
           8.95,
           5,
           4.83,
           5.46,
           4.11,
           5.11,
           2.59,
           4.9,
           3.61,
           4.92,
           11.33,
           4.79,
           4.01,
           26.45,
           4.16,
           16.1,
           11.12,
           15.81,
           4.2,
           4.02,
           18.54,
           5.67,
           3.91,
           4,
           6.31,
           11.49,
           5.2,
           7.16,
           4.01,
           12.35,
           8,
           5.06,
           1.73,
           2.02,
           4.88,
           6.08,
           4.19,
           5.24,
           2,
           6,
           4
          ],
          "sizemin": 4,
          "sizemode": "area",
          "sizeref": 0.0330625
         },
         "mode": "markers",
         "name": "Avg Pace",
         "text": [
          "9.05 miles\n <br>175 BPM",
          "6.03 miles\n <br>157 BPM",
          "4.56 miles\n <br>175 BPM",
          "5.53 miles\n <br>173 BPM",
          "1.86 miles\n <br>165 BPM",
          "7.95 miles\n <br>164 BPM",
          "4.7 miles\n <br>165 BPM",
          "12.65 miles\n <br>167 BPM",
          "8.95 miles\n <br>151 BPM",
          "5.0 miles\n <br>163 BPM",
          "4.83 miles\n <br>164 BPM",
          "5.46 miles\n <br>168 BPM",
          "4.11 miles\n <br>162 BPM",
          "5.11 miles\n <br>164 BPM",
          "2.59 miles\n <br>166 BPM",
          "4.9 miles\n <br>166 BPM",
          "3.61 miles\n <br>167 BPM",
          "4.92 miles\n <br>165 BPM",
          "11.33 miles\n <br>166 BPM",
          "4.79 miles\n <br>165 BPM",
          "4.01 miles\n <br>163 BPM",
          "26.45 miles\n <br>168 BPM",
          "4.16 miles\n <br>152 BPM",
          "16.1 miles\n <br>165 BPM",
          "11.12 miles\n <br>165 BPM",
          "15.81 miles\n <br>165 BPM",
          "4.2 miles\n <br>153 BPM",
          "4.02 miles\n <br>158 BPM",
          "18.54 miles\n <br>166 BPM",
          "5.67 miles\n <br>164 BPM",
          "3.91 miles\n <br>151 BPM",
          "4.0 miles\n <br>158 BPM",
          "6.31 miles\n <br>156 BPM",
          "11.49 miles\n <br>164 BPM",
          "5.2 miles\n <br>156 BPM",
          "7.16 miles\n <br>167 BPM",
          "4.01 miles\n <br>156 BPM",
          "12.35 miles\n <br>163 BPM",
          "8.0 miles\n <br>175 BPM",
          "5.06 miles\n <br>170 BPM",
          "1.73 miles\n <br>158 BPM",
          "2.02 miles\n <br>163 BPM",
          "4.88 miles\n <br>157 BPM",
          "6.08 miles\n <br>164 BPM",
          "4.19 miles\n <br>167 BPM",
          "5.24 miles\n <br>159 BPM",
          "2.0 miles\n <br>166 BPM",
          "6.0 miles\n <br>160 BPM",
          "4.0 miles\n <br>148 BPM"
         ],
         "type": "scatter",
         "x": [
          602,
          621,
          448,
          467,
          468,
          478,
          480,
          488,
          490,
          494,
          511,
          511,
          512,
          515,
          515,
          516,
          517,
          517,
          517,
          526,
          531,
          532,
          532,
          533,
          535,
          536,
          538,
          538,
          540,
          542,
          542,
          543,
          544,
          544,
          545,
          547,
          547,
          552,
          555,
          563,
          563,
          570,
          571,
          574,
          580,
          586,
          588,
          592,
          594
         ],
         "y": [
          175,
          157,
          175,
          173,
          165,
          164,
          165,
          167,
          151,
          163,
          164,
          168,
          162,
          164,
          166,
          166,
          167,
          165,
          166,
          165,
          163,
          168,
          152,
          165,
          165,
          165,
          153,
          158,
          166,
          164,
          151,
          158,
          156,
          164,
          156,
          167,
          156,
          163,
          175,
          170,
          158,
          163,
          157,
          164,
          167,
          159,
          166,
          160,
          148
         ]
        }
       ],
       "layout": {
        "template": {
         "data": {
          "bar": [
           {
            "error_x": {
             "color": "#2a3f5f"
            },
            "error_y": {
             "color": "#2a3f5f"
            },
            "marker": {
             "line": {
              "color": "#E5ECF6",
              "width": 0.5
             },
             "pattern": {
              "fillmode": "overlay",
              "size": 10,
              "solidity": 0.2
             }
            },
            "type": "bar"
           }
          ],
          "barpolar": [
           {
            "marker": {
             "line": {
              "color": "#E5ECF6",
              "width": 0.5
             },
             "pattern": {
              "fillmode": "overlay",
              "size": 10,
              "solidity": 0.2
             }
            },
            "type": "barpolar"
           }
          ],
          "carpet": [
           {
            "aaxis": {
             "endlinecolor": "#2a3f5f",
             "gridcolor": "white",
             "linecolor": "white",
             "minorgridcolor": "white",
             "startlinecolor": "#2a3f5f"
            },
            "baxis": {
             "endlinecolor": "#2a3f5f",
             "gridcolor": "white",
             "linecolor": "white",
             "minorgridcolor": "white",
             "startlinecolor": "#2a3f5f"
            },
            "type": "carpet"
           }
          ],
          "choropleth": [
           {
            "colorbar": {
             "outlinewidth": 0,
             "ticks": ""
            },
            "type": "choropleth"
           }
          ],
          "contour": [
           {
            "colorbar": {
             "outlinewidth": 0,
             "ticks": ""
            },
            "colorscale": [
             [
              0,
              "#0d0887"
             ],
             [
              0.1111111111111111,
              "#46039f"
             ],
             [
              0.2222222222222222,
              "#7201a8"
             ],
             [
              0.3333333333333333,
              "#9c179e"
             ],
             [
              0.4444444444444444,
              "#bd3786"
             ],
             [
              0.5555555555555556,
              "#d8576b"
             ],
             [
              0.6666666666666666,
              "#ed7953"
             ],
             [
              0.7777777777777778,
              "#fb9f3a"
             ],
             [
              0.8888888888888888,
              "#fdca26"
             ],
             [
              1,
              "#f0f921"
             ]
            ],
            "type": "contour"
           }
          ],
          "contourcarpet": [
           {
            "colorbar": {
             "outlinewidth": 0,
             "ticks": ""
            },
            "type": "contourcarpet"
           }
          ],
          "heatmap": [
           {
            "colorbar": {
             "outlinewidth": 0,
             "ticks": ""
            },
            "colorscale": [
             [
              0,
              "#0d0887"
             ],
             [
              0.1111111111111111,
              "#46039f"
             ],
             [
              0.2222222222222222,
              "#7201a8"
             ],
             [
              0.3333333333333333,
              "#9c179e"
             ],
             [
              0.4444444444444444,
              "#bd3786"
             ],
             [
              0.5555555555555556,
              "#d8576b"
             ],
             [
              0.6666666666666666,
              "#ed7953"
             ],
             [
              0.7777777777777778,
              "#fb9f3a"
             ],
             [
              0.8888888888888888,
              "#fdca26"
             ],
             [
              1,
              "#f0f921"
             ]
            ],
            "type": "heatmap"
           }
          ],
          "heatmapgl": [
           {
            "colorbar": {
             "outlinewidth": 0,
             "ticks": ""
            },
            "colorscale": [
             [
              0,
              "#0d0887"
             ],
             [
              0.1111111111111111,
              "#46039f"
             ],
             [
              0.2222222222222222,
              "#7201a8"
             ],
             [
              0.3333333333333333,
              "#9c179e"
             ],
             [
              0.4444444444444444,
              "#bd3786"
             ],
             [
              0.5555555555555556,
              "#d8576b"
             ],
             [
              0.6666666666666666,
              "#ed7953"
             ],
             [
              0.7777777777777778,
              "#fb9f3a"
             ],
             [
              0.8888888888888888,
              "#fdca26"
             ],
             [
              1,
              "#f0f921"
             ]
            ],
            "type": "heatmapgl"
           }
          ],
          "histogram": [
           {
            "marker": {
             "pattern": {
              "fillmode": "overlay",
              "size": 10,
              "solidity": 0.2
             }
            },
            "type": "histogram"
           }
          ],
          "histogram2d": [
           {
            "colorbar": {
             "outlinewidth": 0,
             "ticks": ""
            },
            "colorscale": [
             [
              0,
              "#0d0887"
             ],
             [
              0.1111111111111111,
              "#46039f"
             ],
             [
              0.2222222222222222,
              "#7201a8"
             ],
             [
              0.3333333333333333,
              "#9c179e"
             ],
             [
              0.4444444444444444,
              "#bd3786"
             ],
             [
              0.5555555555555556,
              "#d8576b"
             ],
             [
              0.6666666666666666,
              "#ed7953"
             ],
             [
              0.7777777777777778,
              "#fb9f3a"
             ],
             [
              0.8888888888888888,
              "#fdca26"
             ],
             [
              1,
              "#f0f921"
             ]
            ],
            "type": "histogram2d"
           }
          ],
          "histogram2dcontour": [
           {
            "colorbar": {
             "outlinewidth": 0,
             "ticks": ""
            },
            "colorscale": [
             [
              0,
              "#0d0887"
             ],
             [
              0.1111111111111111,
              "#46039f"
             ],
             [
              0.2222222222222222,
              "#7201a8"
             ],
             [
              0.3333333333333333,
              "#9c179e"
             ],
             [
              0.4444444444444444,
              "#bd3786"
             ],
             [
              0.5555555555555556,
              "#d8576b"
             ],
             [
              0.6666666666666666,
              "#ed7953"
             ],
             [
              0.7777777777777778,
              "#fb9f3a"
             ],
             [
              0.8888888888888888,
              "#fdca26"
             ],
             [
              1,
              "#f0f921"
             ]
            ],
            "type": "histogram2dcontour"
           }
          ],
          "mesh3d": [
           {
            "colorbar": {
             "outlinewidth": 0,
             "ticks": ""
            },
            "type": "mesh3d"
           }
          ],
          "parcoords": [
           {
            "line": {
             "colorbar": {
              "outlinewidth": 0,
              "ticks": ""
             }
            },
            "type": "parcoords"
           }
          ],
          "pie": [
           {
            "automargin": true,
            "type": "pie"
           }
          ],
          "scatter": [
           {
            "fillpattern": {
             "fillmode": "overlay",
             "size": 10,
             "solidity": 0.2
            },
            "type": "scatter"
           }
          ],
          "scatter3d": [
           {
            "line": {
             "colorbar": {
              "outlinewidth": 0,
              "ticks": ""
             }
            },
            "marker": {
             "colorbar": {
              "outlinewidth": 0,
              "ticks": ""
             }
            },
            "type": "scatter3d"
           }
          ],
          "scattercarpet": [
           {
            "marker": {
             "colorbar": {
              "outlinewidth": 0,
              "ticks": ""
             }
            },
            "type": "scattercarpet"
           }
          ],
          "scattergeo": [
           {
            "marker": {
             "colorbar": {
              "outlinewidth": 0,
              "ticks": ""
             }
            },
            "type": "scattergeo"
           }
          ],
          "scattergl": [
           {
            "marker": {
             "colorbar": {
              "outlinewidth": 0,
              "ticks": ""
             }
            },
            "type": "scattergl"
           }
          ],
          "scattermapbox": [
           {
            "marker": {
             "colorbar": {
              "outlinewidth": 0,
              "ticks": ""
             }
            },
            "type": "scattermapbox"
           }
          ],
          "scatterpolar": [
           {
            "marker": {
             "colorbar": {
              "outlinewidth": 0,
              "ticks": ""
             }
            },
            "type": "scatterpolar"
           }
          ],
          "scatterpolargl": [
           {
            "marker": {
             "colorbar": {
              "outlinewidth": 0,
              "ticks": ""
             }
            },
            "type": "scatterpolargl"
           }
          ],
          "scatterternary": [
           {
            "marker": {
             "colorbar": {
              "outlinewidth": 0,
              "ticks": ""
             }
            },
            "type": "scatterternary"
           }
          ],
          "surface": [
           {
            "colorbar": {
             "outlinewidth": 0,
             "ticks": ""
            },
            "colorscale": [
             [
              0,
              "#0d0887"
             ],
             [
              0.1111111111111111,
              "#46039f"
             ],
             [
              0.2222222222222222,
              "#7201a8"
             ],
             [
              0.3333333333333333,
              "#9c179e"
             ],
             [
              0.4444444444444444,
              "#bd3786"
             ],
             [
              0.5555555555555556,
              "#d8576b"
             ],
             [
              0.6666666666666666,
              "#ed7953"
             ],
             [
              0.7777777777777778,
              "#fb9f3a"
             ],
             [
              0.8888888888888888,
              "#fdca26"
             ],
             [
              1,
              "#f0f921"
             ]
            ],
            "type": "surface"
           }
          ],
          "table": [
           {
            "cells": {
             "fill": {
              "color": "#EBF0F8"
             },
             "line": {
              "color": "white"
             }
            },
            "header": {
             "fill": {
              "color": "#C8D4E3"
             },
             "line": {
              "color": "white"
             }
            },
            "type": "table"
           }
          ]
         },
         "layout": {
          "annotationdefaults": {
           "arrowcolor": "#2a3f5f",
           "arrowhead": 0,
           "arrowwidth": 1
          },
          "autotypenumbers": "strict",
          "coloraxis": {
           "colorbar": {
            "outlinewidth": 0,
            "ticks": ""
           }
          },
          "colorscale": {
           "diverging": [
            [
             0,
             "#8e0152"
            ],
            [
             0.1,
             "#c51b7d"
            ],
            [
             0.2,
             "#de77ae"
            ],
            [
             0.3,
             "#f1b6da"
            ],
            [
             0.4,
             "#fde0ef"
            ],
            [
             0.5,
             "#f7f7f7"
            ],
            [
             0.6,
             "#e6f5d0"
            ],
            [
             0.7,
             "#b8e186"
            ],
            [
             0.8,
             "#7fbc41"
            ],
            [
             0.9,
             "#4d9221"
            ],
            [
             1,
             "#276419"
            ]
           ],
           "sequential": [
            [
             0,
             "#0d0887"
            ],
            [
             0.1111111111111111,
             "#46039f"
            ],
            [
             0.2222222222222222,
             "#7201a8"
            ],
            [
             0.3333333333333333,
             "#9c179e"
            ],
            [
             0.4444444444444444,
             "#bd3786"
            ],
            [
             0.5555555555555556,
             "#d8576b"
            ],
            [
             0.6666666666666666,
             "#ed7953"
            ],
            [
             0.7777777777777778,
             "#fb9f3a"
            ],
            [
             0.8888888888888888,
             "#fdca26"
            ],
            [
             1,
             "#f0f921"
            ]
           ],
           "sequentialminus": [
            [
             0,
             "#0d0887"
            ],
            [
             0.1111111111111111,
             "#46039f"
            ],
            [
             0.2222222222222222,
             "#7201a8"
            ],
            [
             0.3333333333333333,
             "#9c179e"
            ],
            [
             0.4444444444444444,
             "#bd3786"
            ],
            [
             0.5555555555555556,
             "#d8576b"
            ],
            [
             0.6666666666666666,
             "#ed7953"
            ],
            [
             0.7777777777777778,
             "#fb9f3a"
            ],
            [
             0.8888888888888888,
             "#fdca26"
            ],
            [
             1,
             "#f0f921"
            ]
           ]
          },
          "colorway": [
           "#636efa",
           "#EF553B",
           "#00cc96",
           "#ab63fa",
           "#FFA15A",
           "#19d3f3",
           "#FF6692",
           "#B6E880",
           "#FF97FF",
           "#FECB52"
          ],
          "font": {
           "color": "#2a3f5f"
          },
          "geo": {
           "bgcolor": "white",
           "lakecolor": "white",
           "landcolor": "#E5ECF6",
           "showlakes": true,
           "showland": true,
           "subunitcolor": "white"
          },
          "hoverlabel": {
           "align": "left"
          },
          "hovermode": "closest",
          "mapbox": {
           "style": "light"
          },
          "paper_bgcolor": "white",
          "plot_bgcolor": "#E5ECF6",
          "polar": {
           "angularaxis": {
            "gridcolor": "white",
            "linecolor": "white",
            "ticks": ""
           },
           "bgcolor": "#E5ECF6",
           "radialaxis": {
            "gridcolor": "white",
            "linecolor": "white",
            "ticks": ""
           }
          },
          "scene": {
           "xaxis": {
            "backgroundcolor": "#E5ECF6",
            "gridcolor": "white",
            "gridwidth": 2,
            "linecolor": "white",
            "showbackground": true,
            "ticks": "",
            "zerolinecolor": "white"
           },
           "yaxis": {
            "backgroundcolor": "#E5ECF6",
            "gridcolor": "white",
            "gridwidth": 2,
            "linecolor": "white",
            "showbackground": true,
            "ticks": "",
            "zerolinecolor": "white"
           },
           "zaxis": {
            "backgroundcolor": "#E5ECF6",
            "gridcolor": "white",
            "gridwidth": 2,
            "linecolor": "white",
            "showbackground": true,
            "ticks": "",
            "zerolinecolor": "white"
           }
          },
          "shapedefaults": {
           "line": {
            "color": "#2a3f5f"
           }
          },
          "ternary": {
           "aaxis": {
            "gridcolor": "white",
            "linecolor": "white",
            "ticks": ""
           },
           "baxis": {
            "gridcolor": "white",
            "linecolor": "white",
            "ticks": ""
           },
           "bgcolor": "#E5ECF6",
           "caxis": {
            "gridcolor": "white",
            "linecolor": "white",
            "ticks": ""
           }
          },
          "title": {
           "x": 0.05
          },
          "xaxis": {
           "automargin": true,
           "gridcolor": "white",
           "linecolor": "white",
           "ticks": "",
           "title": {
            "standoff": 15
           },
           "zerolinecolor": "white",
           "zerolinewidth": 2
          },
          "yaxis": {
           "automargin": true,
           "gridcolor": "white",
           "linecolor": "white",
           "ticks": "",
           "title": {
            "standoff": 15
           },
           "zerolinecolor": "white",
           "zerolinewidth": 2
          }
         }
        },
        "title": {
         "text": "Fig 3: Average heart rate over pace by run (distance ~ radius)"
        },
        "xaxis": {
         "autorange": "reversed",
         "tickmode": "array",
         "ticktext": [
          "06:00",
          "06:30",
          "07:00",
          "07:30",
          "08:00",
          "08:30",
          "09:00",
          "09:30",
          "10:00",
          "10:30",
          "11:00",
          "11:30"
         ],
         "tickvals": [
          360,
          390,
          420,
          450,
          480,
          510,
          540,
          570,
          600,
          630,
          660,
          690
         ],
         "title": {
          "text": "Date"
         }
        },
        "yaxis": {
         "linecolor": "black",
         "tickmode": "array",
         "ticks": "outside",
         "ticktext": [
          "06:00",
          "06:30",
          "07:00",
          "07:30",
          "08:00",
          "08:30",
          "09:00",
          "09:30",
          "10:00",
          "10:30",
          "11:00",
          "11:30"
         ],
         "title": {
          "text": "Avg heart rate [bpm]"
         }
        }
       }
      }
     },
     "metadata": {},
     "output_type": "display_data"
    }
   ],
   "source": [
    "# Get custom y-ticks and labels\n",
    "fig_3 = go.Figure()\n",
    "\n",
    "# Add a trace for average pace with size representing distance\n",
    "fig_3.add_trace(go.Scatter(\n",
    "    x=df['Avg Moving Pace'], \n",
    "    y=df['Avg.HR'], \n",
    "    mode='markers', \n",
    "    marker=dict(\n",
    "        size=df['Distance'],  # Assume 'Distance' is a column in your DataFrame\n",
    "        sizemode='area',\n",
    "         sizeref=2.*max(df['Distance'])/(40.**2),\n",
    "        sizemin=4\n",
    "    ),\n",
    "    text=df['Distance'].apply(lambda d: f\"{d} miles\\n\") + ' <br>'+ df['Avg.HR'].apply(lambda d: f\"{d} BPM\"),\n",
    "    hoverinfo='text',\n",
    "    name='Avg Pace'\n",
    "    \n",
    "))\n",
    "\n",
    "\n",
    "\n",
    "# Get custom y-ticks and labels\n",
    "x_ticks, x_labels = get_pace_ylabels()\n",
    "\n",
    "# Customize the layout\n",
    "fig_3.update_layout(\n",
    "    title='Fig 3: Average heart rate over pace by run (distance ~ radius)',\n",
    "    xaxis_title='Date',\n",
    "    yaxis_title='Avg heart rate [bpm]',\n",
    "    xaxis=dict(\n",
    "        tickmode='array',\n",
    "        tickvals=x_ticks,\n",
    "        ticktext=x_labels,\n",
    "        autorange='reversed'  # Reverse the y-axis\n",
    "    ),\n",
    "    yaxis=dict(\n",
    "        tickmode='array',\n",
    "        ticktext=y_labels, # Assuming these labels are pre-calculated\n",
    "        ticks='outside',   # This ensures tick marks appear outside the axis\n",
    "        linecolor='black' # Color of the axis line\n",
    "        \n",
    "    )\n",
    ")\n",
    "# Show the plot\n",
    "fig_3.show()"
   ]
  },
  {
   "cell_type": "code",
   "execution_count": 4,
   "metadata": {},
   "outputs": [
    {
     "data": {
      "application/vnd.plotly.v1+json": {
       "config": {
        "plotlyServerURL": "https://plot.ly"
       },
       "data": [
        {
         "hoverinfo": "text",
         "mode": "lines",
         "name": "Cumsum Distance",
         "text": [
          "6.03 total miles<br>01-02-2024<br>",
          "15.08 total miles<br>01-04-2024<br>",
          "21.08 total miles<br>01-09-2024<br>",
          "25.08 total miles<br>01-10-2024<br>",
          "33.08 total miles<br>01-11-2024<br>",
          "45.43 total miles<br>01-16-2024<br>",
          "54.38 total miles<br>01-22-2024<br>",
          "59.17 total miles<br>01-26-2024<br>",
          "65.25 total miles<br>02-01-2024<br>",
          "67.84 total miles<br>02-02-2024<br>",
          "72.03 total miles<br>02-04-2024<br>",
          "83.15 total miles<br>02-05-2024<br>",
          "88.61 total miles<br>02-07-2024<br>",
          "93.85 total miles<br>02-08-2024<br>",
          "95.87 total miles<br>02-09-2024<br>",
          "99.87 total miles<br>02-10-2024<br>",
          "111.36 total miles<br>02-11-2024<br>",
          "113.09 total miles<br>02-13-2024<br>",
          "115.09 total miles<br>02-13-2024<br>",
          "120.09 total miles<br>02-14-2024<br>",
          "124.65 total miles<br>02-15-2024<br>",
          "137.3 total miles<br>02-17-2024<br>",
          "141.31 total miles<br>02-19-2024<br>",
          "146.01 total miles<br>02-22-2024<br>",
          "150.02 total miles<br>02-23-2024<br>",
          "161.35 total miles<br>02-24-2024<br>",
          "165.26 total miles<br>02-26-2024<br>",
          "167.12 total miles<br>02-28-2024<br>",
          "173.43 total miles<br>03-03-2024<br>",
          "178.63 total miles<br>03-05-2024<br>",
          "182.65 total miles<br>03-06-2024<br>",
          "186.85 total miles<br>03-09-2024<br>",
          "191.01 total miles<br>03-11-2024<br>",
          "196.54 total miles<br>03-12-2024<br>",
          "201.37 total miles<br>03-15-2024<br>",
          "207.04 total miles<br>04-03-2024<br>",
          "212.1 total miles<br>04-05-2024<br>",
          "227.91 total miles<br>04-07-2024<br>",
          "233.02 total miles<br>04-09-2024<br>",
          "240.97 total miles<br>04-11-2024<br>",
          "257.07 total miles<br>04-14-2024<br>",
          "261.99 total miles<br>04-16-2024<br>",
          "266.87 total miles<br>04-18-2024<br>",
          "285.41 total miles<br>04-21-2024<br>",
          "289.02 total miles<br>04-23-2024<br>",
          "293.92 total miles<br>04-25-2024<br>",
          "301.08 total miles<br>05-02-2024<br>",
          "305.19 total miles<br>05-09-2024<br>",
          "331.64 total miles<br>05-12-2024<br>"
         ],
         "type": "scatter",
         "x": [
          "2024-01-02T13:47:02",
          "2024-01-04T10:13:59",
          "2024-01-09T17:12:00",
          "2024-01-10T17:10:30",
          "2024-01-11T08:32:24",
          "2024-01-16T18:10:23",
          "2024-01-22T05:53:57",
          "2024-01-26T07:10:24",
          "2024-02-01T10:27:31",
          "2024-02-02T08:40:45",
          "2024-02-04T13:34:21",
          "2024-02-05T13:42:59",
          "2024-02-07T16:45:19",
          "2024-02-08T19:21:49",
          "2024-02-09T16:40:29",
          "2024-02-10T15:01:15",
          "2024-02-11T14:10:29",
          "2024-02-13T16:18:35",
          "2024-02-13T17:17:00",
          "2024-02-14T17:14:36",
          "2024-02-15T16:15:37",
          "2024-02-17T12:19:41",
          "2024-02-19T16:26:36",
          "2024-02-22T16:28:19",
          "2024-02-23T15:24:44",
          "2024-02-24T13:40:09",
          "2024-02-26T19:59:40",
          "2024-02-28T19:35:52",
          "2024-03-03T16:33:29",
          "2024-03-05T16:45:59",
          "2024-03-06T19:56:21",
          "2024-03-09T18:43:40",
          "2024-03-11T17:17:27",
          "2024-03-12T16:19:48",
          "2024-03-15T15:17:14",
          "2024-04-03T16:20:58",
          "2024-04-05T17:30:25",
          "2024-04-07T14:42:42",
          "2024-04-09T07:58:14",
          "2024-04-11T17:15:03",
          "2024-04-14T11:18:07",
          "2024-04-16T07:54:45",
          "2024-04-18T07:57:40",
          "2024-04-21T12:11:30",
          "2024-04-23T07:59:14",
          "2024-04-25T07:55:01",
          "2024-05-02T14:24:41",
          "2024-05-09T16:49:20",
          "2024-05-12T07:00:04"
         ],
         "y": [
          6.03,
          15.080000000000002,
          21.080000000000002,
          25.080000000000002,
          33.08,
          45.43,
          54.379999999999995,
          59.169999999999995,
          65.25,
          67.84,
          72.03,
          83.15,
          88.61,
          93.85,
          95.86999999999999,
          99.86999999999999,
          111.35999999999999,
          113.08999999999999,
          115.08999999999999,
          120.08999999999999,
          124.64999999999999,
          137.29999999999998,
          141.30999999999997,
          146.00999999999996,
          150.01999999999995,
          161.34999999999997,
          165.25999999999996,
          167.11999999999998,
          173.42999999999998,
          178.62999999999997,
          182.64999999999998,
          186.84999999999997,
          191.00999999999996,
          196.53999999999996,
          201.36999999999998,
          207.03999999999996,
          212.09999999999997,
          227.90999999999997,
          233.01999999999998,
          240.96999999999997,
          257.07,
          261.99,
          266.87,
          285.41,
          289.02000000000004,
          293.92,
          301.08000000000004,
          305.19000000000005,
          331.64000000000004
         ]
        }
       ],
       "layout": {
        "template": {
         "data": {
          "bar": [
           {
            "error_x": {
             "color": "#2a3f5f"
            },
            "error_y": {
             "color": "#2a3f5f"
            },
            "marker": {
             "line": {
              "color": "#E5ECF6",
              "width": 0.5
             },
             "pattern": {
              "fillmode": "overlay",
              "size": 10,
              "solidity": 0.2
             }
            },
            "type": "bar"
           }
          ],
          "barpolar": [
           {
            "marker": {
             "line": {
              "color": "#E5ECF6",
              "width": 0.5
             },
             "pattern": {
              "fillmode": "overlay",
              "size": 10,
              "solidity": 0.2
             }
            },
            "type": "barpolar"
           }
          ],
          "carpet": [
           {
            "aaxis": {
             "endlinecolor": "#2a3f5f",
             "gridcolor": "white",
             "linecolor": "white",
             "minorgridcolor": "white",
             "startlinecolor": "#2a3f5f"
            },
            "baxis": {
             "endlinecolor": "#2a3f5f",
             "gridcolor": "white",
             "linecolor": "white",
             "minorgridcolor": "white",
             "startlinecolor": "#2a3f5f"
            },
            "type": "carpet"
           }
          ],
          "choropleth": [
           {
            "colorbar": {
             "outlinewidth": 0,
             "ticks": ""
            },
            "type": "choropleth"
           }
          ],
          "contour": [
           {
            "colorbar": {
             "outlinewidth": 0,
             "ticks": ""
            },
            "colorscale": [
             [
              0,
              "#0d0887"
             ],
             [
              0.1111111111111111,
              "#46039f"
             ],
             [
              0.2222222222222222,
              "#7201a8"
             ],
             [
              0.3333333333333333,
              "#9c179e"
             ],
             [
              0.4444444444444444,
              "#bd3786"
             ],
             [
              0.5555555555555556,
              "#d8576b"
             ],
             [
              0.6666666666666666,
              "#ed7953"
             ],
             [
              0.7777777777777778,
              "#fb9f3a"
             ],
             [
              0.8888888888888888,
              "#fdca26"
             ],
             [
              1,
              "#f0f921"
             ]
            ],
            "type": "contour"
           }
          ],
          "contourcarpet": [
           {
            "colorbar": {
             "outlinewidth": 0,
             "ticks": ""
            },
            "type": "contourcarpet"
           }
          ],
          "heatmap": [
           {
            "colorbar": {
             "outlinewidth": 0,
             "ticks": ""
            },
            "colorscale": [
             [
              0,
              "#0d0887"
             ],
             [
              0.1111111111111111,
              "#46039f"
             ],
             [
              0.2222222222222222,
              "#7201a8"
             ],
             [
              0.3333333333333333,
              "#9c179e"
             ],
             [
              0.4444444444444444,
              "#bd3786"
             ],
             [
              0.5555555555555556,
              "#d8576b"
             ],
             [
              0.6666666666666666,
              "#ed7953"
             ],
             [
              0.7777777777777778,
              "#fb9f3a"
             ],
             [
              0.8888888888888888,
              "#fdca26"
             ],
             [
              1,
              "#f0f921"
             ]
            ],
            "type": "heatmap"
           }
          ],
          "heatmapgl": [
           {
            "colorbar": {
             "outlinewidth": 0,
             "ticks": ""
            },
            "colorscale": [
             [
              0,
              "#0d0887"
             ],
             [
              0.1111111111111111,
              "#46039f"
             ],
             [
              0.2222222222222222,
              "#7201a8"
             ],
             [
              0.3333333333333333,
              "#9c179e"
             ],
             [
              0.4444444444444444,
              "#bd3786"
             ],
             [
              0.5555555555555556,
              "#d8576b"
             ],
             [
              0.6666666666666666,
              "#ed7953"
             ],
             [
              0.7777777777777778,
              "#fb9f3a"
             ],
             [
              0.8888888888888888,
              "#fdca26"
             ],
             [
              1,
              "#f0f921"
             ]
            ],
            "type": "heatmapgl"
           }
          ],
          "histogram": [
           {
            "marker": {
             "pattern": {
              "fillmode": "overlay",
              "size": 10,
              "solidity": 0.2
             }
            },
            "type": "histogram"
           }
          ],
          "histogram2d": [
           {
            "colorbar": {
             "outlinewidth": 0,
             "ticks": ""
            },
            "colorscale": [
             [
              0,
              "#0d0887"
             ],
             [
              0.1111111111111111,
              "#46039f"
             ],
             [
              0.2222222222222222,
              "#7201a8"
             ],
             [
              0.3333333333333333,
              "#9c179e"
             ],
             [
              0.4444444444444444,
              "#bd3786"
             ],
             [
              0.5555555555555556,
              "#d8576b"
             ],
             [
              0.6666666666666666,
              "#ed7953"
             ],
             [
              0.7777777777777778,
              "#fb9f3a"
             ],
             [
              0.8888888888888888,
              "#fdca26"
             ],
             [
              1,
              "#f0f921"
             ]
            ],
            "type": "histogram2d"
           }
          ],
          "histogram2dcontour": [
           {
            "colorbar": {
             "outlinewidth": 0,
             "ticks": ""
            },
            "colorscale": [
             [
              0,
              "#0d0887"
             ],
             [
              0.1111111111111111,
              "#46039f"
             ],
             [
              0.2222222222222222,
              "#7201a8"
             ],
             [
              0.3333333333333333,
              "#9c179e"
             ],
             [
              0.4444444444444444,
              "#bd3786"
             ],
             [
              0.5555555555555556,
              "#d8576b"
             ],
             [
              0.6666666666666666,
              "#ed7953"
             ],
             [
              0.7777777777777778,
              "#fb9f3a"
             ],
             [
              0.8888888888888888,
              "#fdca26"
             ],
             [
              1,
              "#f0f921"
             ]
            ],
            "type": "histogram2dcontour"
           }
          ],
          "mesh3d": [
           {
            "colorbar": {
             "outlinewidth": 0,
             "ticks": ""
            },
            "type": "mesh3d"
           }
          ],
          "parcoords": [
           {
            "line": {
             "colorbar": {
              "outlinewidth": 0,
              "ticks": ""
             }
            },
            "type": "parcoords"
           }
          ],
          "pie": [
           {
            "automargin": true,
            "type": "pie"
           }
          ],
          "scatter": [
           {
            "fillpattern": {
             "fillmode": "overlay",
             "size": 10,
             "solidity": 0.2
            },
            "type": "scatter"
           }
          ],
          "scatter3d": [
           {
            "line": {
             "colorbar": {
              "outlinewidth": 0,
              "ticks": ""
             }
            },
            "marker": {
             "colorbar": {
              "outlinewidth": 0,
              "ticks": ""
             }
            },
            "type": "scatter3d"
           }
          ],
          "scattercarpet": [
           {
            "marker": {
             "colorbar": {
              "outlinewidth": 0,
              "ticks": ""
             }
            },
            "type": "scattercarpet"
           }
          ],
          "scattergeo": [
           {
            "marker": {
             "colorbar": {
              "outlinewidth": 0,
              "ticks": ""
             }
            },
            "type": "scattergeo"
           }
          ],
          "scattergl": [
           {
            "marker": {
             "colorbar": {
              "outlinewidth": 0,
              "ticks": ""
             }
            },
            "type": "scattergl"
           }
          ],
          "scattermapbox": [
           {
            "marker": {
             "colorbar": {
              "outlinewidth": 0,
              "ticks": ""
             }
            },
            "type": "scattermapbox"
           }
          ],
          "scatterpolar": [
           {
            "marker": {
             "colorbar": {
              "outlinewidth": 0,
              "ticks": ""
             }
            },
            "type": "scatterpolar"
           }
          ],
          "scatterpolargl": [
           {
            "marker": {
             "colorbar": {
              "outlinewidth": 0,
              "ticks": ""
             }
            },
            "type": "scatterpolargl"
           }
          ],
          "scatterternary": [
           {
            "marker": {
             "colorbar": {
              "outlinewidth": 0,
              "ticks": ""
             }
            },
            "type": "scatterternary"
           }
          ],
          "surface": [
           {
            "colorbar": {
             "outlinewidth": 0,
             "ticks": ""
            },
            "colorscale": [
             [
              0,
              "#0d0887"
             ],
             [
              0.1111111111111111,
              "#46039f"
             ],
             [
              0.2222222222222222,
              "#7201a8"
             ],
             [
              0.3333333333333333,
              "#9c179e"
             ],
             [
              0.4444444444444444,
              "#bd3786"
             ],
             [
              0.5555555555555556,
              "#d8576b"
             ],
             [
              0.6666666666666666,
              "#ed7953"
             ],
             [
              0.7777777777777778,
              "#fb9f3a"
             ],
             [
              0.8888888888888888,
              "#fdca26"
             ],
             [
              1,
              "#f0f921"
             ]
            ],
            "type": "surface"
           }
          ],
          "table": [
           {
            "cells": {
             "fill": {
              "color": "#EBF0F8"
             },
             "line": {
              "color": "white"
             }
            },
            "header": {
             "fill": {
              "color": "#C8D4E3"
             },
             "line": {
              "color": "white"
             }
            },
            "type": "table"
           }
          ]
         },
         "layout": {
          "annotationdefaults": {
           "arrowcolor": "#2a3f5f",
           "arrowhead": 0,
           "arrowwidth": 1
          },
          "autotypenumbers": "strict",
          "coloraxis": {
           "colorbar": {
            "outlinewidth": 0,
            "ticks": ""
           }
          },
          "colorscale": {
           "diverging": [
            [
             0,
             "#8e0152"
            ],
            [
             0.1,
             "#c51b7d"
            ],
            [
             0.2,
             "#de77ae"
            ],
            [
             0.3,
             "#f1b6da"
            ],
            [
             0.4,
             "#fde0ef"
            ],
            [
             0.5,
             "#f7f7f7"
            ],
            [
             0.6,
             "#e6f5d0"
            ],
            [
             0.7,
             "#b8e186"
            ],
            [
             0.8,
             "#7fbc41"
            ],
            [
             0.9,
             "#4d9221"
            ],
            [
             1,
             "#276419"
            ]
           ],
           "sequential": [
            [
             0,
             "#0d0887"
            ],
            [
             0.1111111111111111,
             "#46039f"
            ],
            [
             0.2222222222222222,
             "#7201a8"
            ],
            [
             0.3333333333333333,
             "#9c179e"
            ],
            [
             0.4444444444444444,
             "#bd3786"
            ],
            [
             0.5555555555555556,
             "#d8576b"
            ],
            [
             0.6666666666666666,
             "#ed7953"
            ],
            [
             0.7777777777777778,
             "#fb9f3a"
            ],
            [
             0.8888888888888888,
             "#fdca26"
            ],
            [
             1,
             "#f0f921"
            ]
           ],
           "sequentialminus": [
            [
             0,
             "#0d0887"
            ],
            [
             0.1111111111111111,
             "#46039f"
            ],
            [
             0.2222222222222222,
             "#7201a8"
            ],
            [
             0.3333333333333333,
             "#9c179e"
            ],
            [
             0.4444444444444444,
             "#bd3786"
            ],
            [
             0.5555555555555556,
             "#d8576b"
            ],
            [
             0.6666666666666666,
             "#ed7953"
            ],
            [
             0.7777777777777778,
             "#fb9f3a"
            ],
            [
             0.8888888888888888,
             "#fdca26"
            ],
            [
             1,
             "#f0f921"
            ]
           ]
          },
          "colorway": [
           "#636efa",
           "#EF553B",
           "#00cc96",
           "#ab63fa",
           "#FFA15A",
           "#19d3f3",
           "#FF6692",
           "#B6E880",
           "#FF97FF",
           "#FECB52"
          ],
          "font": {
           "color": "#2a3f5f"
          },
          "geo": {
           "bgcolor": "white",
           "lakecolor": "white",
           "landcolor": "#E5ECF6",
           "showlakes": true,
           "showland": true,
           "subunitcolor": "white"
          },
          "hoverlabel": {
           "align": "left"
          },
          "hovermode": "closest",
          "mapbox": {
           "style": "light"
          },
          "paper_bgcolor": "white",
          "plot_bgcolor": "#E5ECF6",
          "polar": {
           "angularaxis": {
            "gridcolor": "white",
            "linecolor": "white",
            "ticks": ""
           },
           "bgcolor": "#E5ECF6",
           "radialaxis": {
            "gridcolor": "white",
            "linecolor": "white",
            "ticks": ""
           }
          },
          "scene": {
           "xaxis": {
            "backgroundcolor": "#E5ECF6",
            "gridcolor": "white",
            "gridwidth": 2,
            "linecolor": "white",
            "showbackground": true,
            "ticks": "",
            "zerolinecolor": "white"
           },
           "yaxis": {
            "backgroundcolor": "#E5ECF6",
            "gridcolor": "white",
            "gridwidth": 2,
            "linecolor": "white",
            "showbackground": true,
            "ticks": "",
            "zerolinecolor": "white"
           },
           "zaxis": {
            "backgroundcolor": "#E5ECF6",
            "gridcolor": "white",
            "gridwidth": 2,
            "linecolor": "white",
            "showbackground": true,
            "ticks": "",
            "zerolinecolor": "white"
           }
          },
          "shapedefaults": {
           "line": {
            "color": "#2a3f5f"
           }
          },
          "ternary": {
           "aaxis": {
            "gridcolor": "white",
            "linecolor": "white",
            "ticks": ""
           },
           "baxis": {
            "gridcolor": "white",
            "linecolor": "white",
            "ticks": ""
           },
           "bgcolor": "#E5ECF6",
           "caxis": {
            "gridcolor": "white",
            "linecolor": "white",
            "ticks": ""
           }
          },
          "title": {
           "x": 0.05
          },
          "xaxis": {
           "automargin": true,
           "gridcolor": "white",
           "linecolor": "white",
           "ticks": "",
           "title": {
            "standoff": 15
           },
           "zerolinecolor": "white",
           "zerolinewidth": 2
          },
          "yaxis": {
           "automargin": true,
           "gridcolor": "white",
           "linecolor": "white",
           "ticks": "",
           "title": {
            "standoff": 15
           },
           "zerolinecolor": "white",
           "zerolinewidth": 2
          }
         }
        },
        "title": {
         "text": "Fig 4: Cumalative distance over time"
        },
        "xaxis": {
         "dtick": "M1",
         "tick0": "2024-01-02T13:47:02",
         "tickformat": "%b %Y",
         "tickmode": "linear",
         "title": {
          "text": "Date"
         }
        },
        "yaxis": {
         "title": {
          "text": "Distance [mi]"
         }
        }
       }
      }
     },
     "metadata": {},
     "output_type": "display_data"
    }
   ],
   "source": [
    "#Adjustments\n",
    "df = df.sort_values(by='Date')\n",
    "#create a new cumalative sum column\n",
    "df['Cumsum Distance'] = df['Distance'].cumsum()\n",
    "\n",
    "fig_4 = go.Figure()\n",
    "# Add trace for average pace with size representing distance\n",
    "fig_4.add_trace(go.Scatter(\n",
    "    x=df['Date'], \n",
    "    y=df['Cumsum Distance'],\n",
    "    mode='lines',\n",
    "    name='Cumsum Distance',\n",
    "    text=df['Cumsum Distance'].apply(lambda d: f\"{round(d, 2)} total miles\") + '<br>' + df['Date'].apply(lambda d: d.strftime('%m-%d-%Y')) + '<br>' ,\n",
    "    hoverinfo='text',\n",
    "))\n",
    "\n",
    "\n",
    "fig_4.update_layout(\n",
    "    title='Fig 4: Cumalative distance over time',\n",
    "    xaxis_title='Date',\n",
    "    yaxis_title='Distance [mi]',\n",
    "    xaxis=dict(\n",
    "        tickformat='%b %Y',\n",
    "        tickmode='linear',\n",
    "        tick0=df['Date'].min(),\n",
    "        dtick=\"M1\"# show tick labels for every month\n",
    "    )\n",
    "    )\n",
    "\n",
    "fig_4.show()"
   ]
  },
  {
   "cell_type": "code",
   "execution_count": null,
   "metadata": {},
   "outputs": [],
   "source": []
  },
  {
   "cell_type": "code",
   "execution_count": 5,
   "metadata": {},
   "outputs": [
    {
     "data": {
      "application/vnd.plotly.v1+json": {
       "config": {
        "plotlyServerURL": "https://plot.ly"
       },
       "data": [
        {
         "hoverinfo": "text",
         "marker": {
          "color": "skyblue"
         },
         "name": "Mile Splits",
         "text": [
          "Mile 1 <br> 9:16",
          "Mile 2 <br> 9:02",
          "Mile 3 <br> 8:56",
          "Mile 4 <br> 9:03",
          "Mile 5 <br> 8:58",
          "Mile 6 <br> 9:00",
          "Mile 7 <br> 8:58",
          "Mile 8 <br> 9:02",
          "Mile 9 <br> 9:25",
          "Mile 10 <br> 9:04",
          "Mile 11 <br> 8:43",
          "Mile 12 <br> 8:19",
          "Mile 13 <br> 8:36",
          "Mile 14 <br> 8:40",
          "Mile 15 <br> 8:38",
          "Mile 16 <br> 8:22",
          "Mile 17 <br> 8:34",
          "Mile 18 <br> 8:48",
          "Mile 19 <br> 8:49",
          "Mile 20 <br> 9:00",
          "Mile 21 <br> 8:54",
          "Mile 22 <br> 8:43",
          "Mile 23 <br> 8:43",
          "Mile 24 <br> 8:47",
          "Mile 25 <br> 8:58",
          "Mile 26 <br> 8:58"
         ],
         "type": "bar",
         "y": [
          156,
          142,
          136,
          143,
          138,
          140,
          138,
          142,
          165,
          144,
          123,
          99,
          116,
          120,
          118,
          102,
          114,
          128,
          129,
          140,
          134,
          123,
          123,
          127,
          138,
          138
         ]
        }
       ],
       "layout": {
        "template": {
         "data": {
          "bar": [
           {
            "error_x": {
             "color": "#2a3f5f"
            },
            "error_y": {
             "color": "#2a3f5f"
            },
            "marker": {
             "line": {
              "color": "white",
              "width": 0.5
             },
             "pattern": {
              "fillmode": "overlay",
              "size": 10,
              "solidity": 0.2
             }
            },
            "type": "bar"
           }
          ],
          "barpolar": [
           {
            "marker": {
             "line": {
              "color": "white",
              "width": 0.5
             },
             "pattern": {
              "fillmode": "overlay",
              "size": 10,
              "solidity": 0.2
             }
            },
            "type": "barpolar"
           }
          ],
          "carpet": [
           {
            "aaxis": {
             "endlinecolor": "#2a3f5f",
             "gridcolor": "#C8D4E3",
             "linecolor": "#C8D4E3",
             "minorgridcolor": "#C8D4E3",
             "startlinecolor": "#2a3f5f"
            },
            "baxis": {
             "endlinecolor": "#2a3f5f",
             "gridcolor": "#C8D4E3",
             "linecolor": "#C8D4E3",
             "minorgridcolor": "#C8D4E3",
             "startlinecolor": "#2a3f5f"
            },
            "type": "carpet"
           }
          ],
          "choropleth": [
           {
            "colorbar": {
             "outlinewidth": 0,
             "ticks": ""
            },
            "type": "choropleth"
           }
          ],
          "contour": [
           {
            "colorbar": {
             "outlinewidth": 0,
             "ticks": ""
            },
            "colorscale": [
             [
              0,
              "#0d0887"
             ],
             [
              0.1111111111111111,
              "#46039f"
             ],
             [
              0.2222222222222222,
              "#7201a8"
             ],
             [
              0.3333333333333333,
              "#9c179e"
             ],
             [
              0.4444444444444444,
              "#bd3786"
             ],
             [
              0.5555555555555556,
              "#d8576b"
             ],
             [
              0.6666666666666666,
              "#ed7953"
             ],
             [
              0.7777777777777778,
              "#fb9f3a"
             ],
             [
              0.8888888888888888,
              "#fdca26"
             ],
             [
              1,
              "#f0f921"
             ]
            ],
            "type": "contour"
           }
          ],
          "contourcarpet": [
           {
            "colorbar": {
             "outlinewidth": 0,
             "ticks": ""
            },
            "type": "contourcarpet"
           }
          ],
          "heatmap": [
           {
            "colorbar": {
             "outlinewidth": 0,
             "ticks": ""
            },
            "colorscale": [
             [
              0,
              "#0d0887"
             ],
             [
              0.1111111111111111,
              "#46039f"
             ],
             [
              0.2222222222222222,
              "#7201a8"
             ],
             [
              0.3333333333333333,
              "#9c179e"
             ],
             [
              0.4444444444444444,
              "#bd3786"
             ],
             [
              0.5555555555555556,
              "#d8576b"
             ],
             [
              0.6666666666666666,
              "#ed7953"
             ],
             [
              0.7777777777777778,
              "#fb9f3a"
             ],
             [
              0.8888888888888888,
              "#fdca26"
             ],
             [
              1,
              "#f0f921"
             ]
            ],
            "type": "heatmap"
           }
          ],
          "heatmapgl": [
           {
            "colorbar": {
             "outlinewidth": 0,
             "ticks": ""
            },
            "colorscale": [
             [
              0,
              "#0d0887"
             ],
             [
              0.1111111111111111,
              "#46039f"
             ],
             [
              0.2222222222222222,
              "#7201a8"
             ],
             [
              0.3333333333333333,
              "#9c179e"
             ],
             [
              0.4444444444444444,
              "#bd3786"
             ],
             [
              0.5555555555555556,
              "#d8576b"
             ],
             [
              0.6666666666666666,
              "#ed7953"
             ],
             [
              0.7777777777777778,
              "#fb9f3a"
             ],
             [
              0.8888888888888888,
              "#fdca26"
             ],
             [
              1,
              "#f0f921"
             ]
            ],
            "type": "heatmapgl"
           }
          ],
          "histogram": [
           {
            "marker": {
             "pattern": {
              "fillmode": "overlay",
              "size": 10,
              "solidity": 0.2
             }
            },
            "type": "histogram"
           }
          ],
          "histogram2d": [
           {
            "colorbar": {
             "outlinewidth": 0,
             "ticks": ""
            },
            "colorscale": [
             [
              0,
              "#0d0887"
             ],
             [
              0.1111111111111111,
              "#46039f"
             ],
             [
              0.2222222222222222,
              "#7201a8"
             ],
             [
              0.3333333333333333,
              "#9c179e"
             ],
             [
              0.4444444444444444,
              "#bd3786"
             ],
             [
              0.5555555555555556,
              "#d8576b"
             ],
             [
              0.6666666666666666,
              "#ed7953"
             ],
             [
              0.7777777777777778,
              "#fb9f3a"
             ],
             [
              0.8888888888888888,
              "#fdca26"
             ],
             [
              1,
              "#f0f921"
             ]
            ],
            "type": "histogram2d"
           }
          ],
          "histogram2dcontour": [
           {
            "colorbar": {
             "outlinewidth": 0,
             "ticks": ""
            },
            "colorscale": [
             [
              0,
              "#0d0887"
             ],
             [
              0.1111111111111111,
              "#46039f"
             ],
             [
              0.2222222222222222,
              "#7201a8"
             ],
             [
              0.3333333333333333,
              "#9c179e"
             ],
             [
              0.4444444444444444,
              "#bd3786"
             ],
             [
              0.5555555555555556,
              "#d8576b"
             ],
             [
              0.6666666666666666,
              "#ed7953"
             ],
             [
              0.7777777777777778,
              "#fb9f3a"
             ],
             [
              0.8888888888888888,
              "#fdca26"
             ],
             [
              1,
              "#f0f921"
             ]
            ],
            "type": "histogram2dcontour"
           }
          ],
          "mesh3d": [
           {
            "colorbar": {
             "outlinewidth": 0,
             "ticks": ""
            },
            "type": "mesh3d"
           }
          ],
          "parcoords": [
           {
            "line": {
             "colorbar": {
              "outlinewidth": 0,
              "ticks": ""
             }
            },
            "type": "parcoords"
           }
          ],
          "pie": [
           {
            "automargin": true,
            "type": "pie"
           }
          ],
          "scatter": [
           {
            "fillpattern": {
             "fillmode": "overlay",
             "size": 10,
             "solidity": 0.2
            },
            "type": "scatter"
           }
          ],
          "scatter3d": [
           {
            "line": {
             "colorbar": {
              "outlinewidth": 0,
              "ticks": ""
             }
            },
            "marker": {
             "colorbar": {
              "outlinewidth": 0,
              "ticks": ""
             }
            },
            "type": "scatter3d"
           }
          ],
          "scattercarpet": [
           {
            "marker": {
             "colorbar": {
              "outlinewidth": 0,
              "ticks": ""
             }
            },
            "type": "scattercarpet"
           }
          ],
          "scattergeo": [
           {
            "marker": {
             "colorbar": {
              "outlinewidth": 0,
              "ticks": ""
             }
            },
            "type": "scattergeo"
           }
          ],
          "scattergl": [
           {
            "marker": {
             "colorbar": {
              "outlinewidth": 0,
              "ticks": ""
             }
            },
            "type": "scattergl"
           }
          ],
          "scattermapbox": [
           {
            "marker": {
             "colorbar": {
              "outlinewidth": 0,
              "ticks": ""
             }
            },
            "type": "scattermapbox"
           }
          ],
          "scatterpolar": [
           {
            "marker": {
             "colorbar": {
              "outlinewidth": 0,
              "ticks": ""
             }
            },
            "type": "scatterpolar"
           }
          ],
          "scatterpolargl": [
           {
            "marker": {
             "colorbar": {
              "outlinewidth": 0,
              "ticks": ""
             }
            },
            "type": "scatterpolargl"
           }
          ],
          "scatterternary": [
           {
            "marker": {
             "colorbar": {
              "outlinewidth": 0,
              "ticks": ""
             }
            },
            "type": "scatterternary"
           }
          ],
          "surface": [
           {
            "colorbar": {
             "outlinewidth": 0,
             "ticks": ""
            },
            "colorscale": [
             [
              0,
              "#0d0887"
             ],
             [
              0.1111111111111111,
              "#46039f"
             ],
             [
              0.2222222222222222,
              "#7201a8"
             ],
             [
              0.3333333333333333,
              "#9c179e"
             ],
             [
              0.4444444444444444,
              "#bd3786"
             ],
             [
              0.5555555555555556,
              "#d8576b"
             ],
             [
              0.6666666666666666,
              "#ed7953"
             ],
             [
              0.7777777777777778,
              "#fb9f3a"
             ],
             [
              0.8888888888888888,
              "#fdca26"
             ],
             [
              1,
              "#f0f921"
             ]
            ],
            "type": "surface"
           }
          ],
          "table": [
           {
            "cells": {
             "fill": {
              "color": "#EBF0F8"
             },
             "line": {
              "color": "white"
             }
            },
            "header": {
             "fill": {
              "color": "#C8D4E3"
             },
             "line": {
              "color": "white"
             }
            },
            "type": "table"
           }
          ]
         },
         "layout": {
          "annotationdefaults": {
           "arrowcolor": "#2a3f5f",
           "arrowhead": 0,
           "arrowwidth": 1
          },
          "autotypenumbers": "strict",
          "coloraxis": {
           "colorbar": {
            "outlinewidth": 0,
            "ticks": ""
           }
          },
          "colorscale": {
           "diverging": [
            [
             0,
             "#8e0152"
            ],
            [
             0.1,
             "#c51b7d"
            ],
            [
             0.2,
             "#de77ae"
            ],
            [
             0.3,
             "#f1b6da"
            ],
            [
             0.4,
             "#fde0ef"
            ],
            [
             0.5,
             "#f7f7f7"
            ],
            [
             0.6,
             "#e6f5d0"
            ],
            [
             0.7,
             "#b8e186"
            ],
            [
             0.8,
             "#7fbc41"
            ],
            [
             0.9,
             "#4d9221"
            ],
            [
             1,
             "#276419"
            ]
           ],
           "sequential": [
            [
             0,
             "#0d0887"
            ],
            [
             0.1111111111111111,
             "#46039f"
            ],
            [
             0.2222222222222222,
             "#7201a8"
            ],
            [
             0.3333333333333333,
             "#9c179e"
            ],
            [
             0.4444444444444444,
             "#bd3786"
            ],
            [
             0.5555555555555556,
             "#d8576b"
            ],
            [
             0.6666666666666666,
             "#ed7953"
            ],
            [
             0.7777777777777778,
             "#fb9f3a"
            ],
            [
             0.8888888888888888,
             "#fdca26"
            ],
            [
             1,
             "#f0f921"
            ]
           ],
           "sequentialminus": [
            [
             0,
             "#0d0887"
            ],
            [
             0.1111111111111111,
             "#46039f"
            ],
            [
             0.2222222222222222,
             "#7201a8"
            ],
            [
             0.3333333333333333,
             "#9c179e"
            ],
            [
             0.4444444444444444,
             "#bd3786"
            ],
            [
             0.5555555555555556,
             "#d8576b"
            ],
            [
             0.6666666666666666,
             "#ed7953"
            ],
            [
             0.7777777777777778,
             "#fb9f3a"
            ],
            [
             0.8888888888888888,
             "#fdca26"
            ],
            [
             1,
             "#f0f921"
            ]
           ]
          },
          "colorway": [
           "#636efa",
           "#EF553B",
           "#00cc96",
           "#ab63fa",
           "#FFA15A",
           "#19d3f3",
           "#FF6692",
           "#B6E880",
           "#FF97FF",
           "#FECB52"
          ],
          "font": {
           "color": "#2a3f5f"
          },
          "geo": {
           "bgcolor": "white",
           "lakecolor": "white",
           "landcolor": "white",
           "showlakes": true,
           "showland": true,
           "subunitcolor": "#C8D4E3"
          },
          "hoverlabel": {
           "align": "left"
          },
          "hovermode": "closest",
          "mapbox": {
           "style": "light"
          },
          "paper_bgcolor": "white",
          "plot_bgcolor": "white",
          "polar": {
           "angularaxis": {
            "gridcolor": "#EBF0F8",
            "linecolor": "#EBF0F8",
            "ticks": ""
           },
           "bgcolor": "white",
           "radialaxis": {
            "gridcolor": "#EBF0F8",
            "linecolor": "#EBF0F8",
            "ticks": ""
           }
          },
          "scene": {
           "xaxis": {
            "backgroundcolor": "white",
            "gridcolor": "#DFE8F3",
            "gridwidth": 2,
            "linecolor": "#EBF0F8",
            "showbackground": true,
            "ticks": "",
            "zerolinecolor": "#EBF0F8"
           },
           "yaxis": {
            "backgroundcolor": "white",
            "gridcolor": "#DFE8F3",
            "gridwidth": 2,
            "linecolor": "#EBF0F8",
            "showbackground": true,
            "ticks": "",
            "zerolinecolor": "#EBF0F8"
           },
           "zaxis": {
            "backgroundcolor": "white",
            "gridcolor": "#DFE8F3",
            "gridwidth": 2,
            "linecolor": "#EBF0F8",
            "showbackground": true,
            "ticks": "",
            "zerolinecolor": "#EBF0F8"
           }
          },
          "shapedefaults": {
           "line": {
            "color": "#2a3f5f"
           }
          },
          "ternary": {
           "aaxis": {
            "gridcolor": "#DFE8F3",
            "linecolor": "#A2B1C6",
            "ticks": ""
           },
           "baxis": {
            "gridcolor": "#DFE8F3",
            "linecolor": "#A2B1C6",
            "ticks": ""
           },
           "bgcolor": "white",
           "caxis": {
            "gridcolor": "#DFE8F3",
            "linecolor": "#A2B1C6",
            "ticks": ""
           }
          },
          "title": {
           "x": 0.05
          },
          "xaxis": {
           "automargin": true,
           "gridcolor": "#EBF0F8",
           "linecolor": "#EBF0F8",
           "ticks": "",
           "title": {
            "standoff": 15
           },
           "zerolinecolor": "#EBF0F8",
           "zerolinewidth": 2
          },
          "yaxis": {
           "automargin": true,
           "gridcolor": "#EBF0F8",
           "linecolor": "#EBF0F8",
           "ticks": "",
           "title": {
            "standoff": 15
           },
           "zerolinecolor": "#EBF0F8",
           "zerolinewidth": 2
          }
         }
        },
        "title": {
         "text": "Marathon Mile Splits"
        },
        "xaxis": {
         "tickmode": "array",
         "ticktext": [
          "1",
          "2",
          "3",
          "4",
          "5",
          "6",
          "7",
          "8",
          "9",
          "10",
          "11",
          "12",
          "13",
          "14",
          "15",
          "16",
          "17",
          "18",
          "19",
          "20",
          "21",
          "22",
          "23",
          "24",
          "25",
          "26",
          "27"
         ],
         "tickvals": [
          0,
          1,
          2,
          3,
          4,
          5,
          6,
          7,
          8,
          9,
          10,
          11,
          12,
          13,
          14,
          15,
          16,
          17,
          18,
          19,
          20,
          21,
          22,
          23,
          24,
          25,
          26
         ],
         "title": {
          "text": "Mile"
         }
        },
        "yaxis": {
         "showticklabels": false,
         "title": {
          "text": "1 Mile Split"
         }
        }
       }
      }
     },
     "metadata": {},
     "output_type": "display_data"
    }
   ],
   "source": [
    "marathon_splits = [\"9:16\", \"9:02\", \"8:56\", \"9:03\", \"8:58\", \"9:00\", \"8:58\", \"9:02\", \"9:25\", \"9:04\", \"8:43\", \"8:19\", \"8:36\", \"8:40\", \"8:38\", \"8:22\", \"8:34\", \"8:48\", \"8:49\", \"9:00\", \"8:54\", \"8:43\", \"8:43\", \"8:47\", \"8:58\", \"8:58\"]\n",
    "HR_splits = []\n",
    "\n",
    "marathon_splits = ['0:0' + split for split in marathon_splits]\n",
    "\n",
    "marathon_splits_Pandas = pd.Series(marathon_splits)\n",
    "total_seconds = pd.to_timedelta(marathon_splits_Pandas).dt.total_seconds()\n",
    "\n",
    "# Create the bar chart\n",
    "fig_5 = go.Figure()\n",
    "\n",
    "\n",
    "\n",
    "def get_pace_ylabels_2(ymin=360, ymax=540, step=30):\n",
    "    y_ticks = np.arange(ymin, ymax, step)\n",
    "    labels = [\n",
    "        f\"{'{:02d}'.format(math.floor(y/60))}:{'{:02d}'.format(int(y%60))}\"\n",
    "        for y in y_ticks\n",
    "    ]\n",
    "    return y_ticks, labels\n",
    "\n",
    "# Get custom y-ticks and labels\n",
    "y_ticks, y_labels = get_pace_ylabels_2()\n",
    "miles = list(range(0, len(marathon_splits_Pandas)+1))\n",
    "\n",
    "\n",
    "\n",
    "fig_5.add_trace(go.Bar(\n",
    "    y = total_seconds-400,\n",
    "    marker_color='skyblue',  # Optional: color of the bars\n",
    "    name=\"Mile Splits\",\n",
    "    text=[f\"Mile {i+1} <br> {marathon_splits_Pandas[i][3:]}\" for i in range(len(marathon_splits_Pandas))], # Adding Mile labels\n",
    "    hoverinfo='text',\n",
    "))\n",
    "\n",
    "# Add titles and labels\n",
    "fig_5.update_layout(\n",
    "    title=\"Marathon Mile Splits\",\n",
    "    xaxis_title=\"Mile\",\n",
    "    yaxis_title=\"1 Mile Split\",\n",
    "    yaxis=dict(\n",
    "        showticklabels=False  # This hides the y-axis tick labels\n",
    "    ),\n",
    "    xaxis=dict(\n",
    "        tickmode='array',\n",
    "        tickvals = miles,\n",
    "        ticktext=[f\"{i+1}\" for i in miles],  # Label each tick as \"Mile 1\", \"Mile 2\", etc.\n",
    "\n",
    "    ),\n",
    "    template=\"plotly_white\"\n",
    "    \n",
    ")\n",
    "\n",
    "# Show the chart\n",
    "fig_5.show()\n",
    "\n"
   ]
  },
  {
   "cell_type": "code",
   "execution_count": 6,
   "metadata": {},
   "outputs": [],
   "source": [
    "fig.write_html(\"graph1.html\")\n",
    "\n",
    "fig_2.write_html(\"graph2.html\")\n",
    "\n",
    "fig_3.write_html(\"graph3.html\")\n",
    "\n",
    "fig_4.write_html(\"graph4.html\")\n",
    "\n",
    "fig_5.write_html(\"graph5.html\")\n",
    "\n"
   ]
  }
 ],
 "metadata": {
  "kernelspec": {
   "display_name": "Python 3",
   "language": "python",
   "name": "python3"
  },
  "language_info": {
   "codemirror_mode": {
    "name": "ipython",
    "version": 3
   },
   "file_extension": ".py",
   "mimetype": "text/x-python",
   "name": "python",
   "nbconvert_exporter": "python",
   "pygments_lexer": "ipython3",
   "version": "3.12.6"
  }
 },
 "nbformat": 4,
 "nbformat_minor": 4
}
